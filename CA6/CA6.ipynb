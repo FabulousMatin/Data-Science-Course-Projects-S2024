{
 "cells": [
  {
   "cell_type": "code",
   "execution_count": 48,
   "metadata": {},
   "outputs": [],
   "source": [
    "import pandas as pd\n",
    "import numpy as np\n",
    "import matplotlib.pyplot as plt\n",
    "import seaborn as sea\n",
    "\n",
    "from sklearn.impute import KNNImputer\n",
    "from sklearn.preprocessing import LabelEncoder, MinMaxScaler\n",
    "from sklearn.decomposition import PCA\n",
    "from sklearn.cluster import KMeans\n",
    "from sklearn.metrics import silhouette_score\n",
    "from sklearn.cluster import DBSCAN\n",
    "\n"
   ]
  },
  {
   "cell_type": "markdown",
   "metadata": {},
   "source": [
    "# Utils"
   ]
  },
  {
   "cell_type": "code",
   "execution_count": null,
   "metadata": {},
   "outputs": [],
   "source": [
    "def categorize_quantile(ser: pd.Series, n_category):\n",
    "    assert(n_category == 3 or n_category == 5)\n",
    "    for i in range(1, n_category):\n",
    "        print(i / n_category, ser.quantile(i / n_category))"
   ]
  },
  {
   "cell_type": "code",
   "execution_count": 49,
   "metadata": {},
   "outputs": [],
   "source": [
    "def missing_report(data):\n",
    "\tnan_values = pd.DataFrame()\n",
    "\tnan_values['missing_count'] = data.isna().sum()\n",
    "\tnan_values['missing_percentage'] = nan_values['missing_count'] / data.shape[0]\n",
    "\tnan_values = nan_values[nan_values['missing_count'] > 0]\n",
    "\treturn nan_values.round(4)"
   ]
  },
  {
   "cell_type": "code",
   "execution_count": 50,
   "metadata": {},
   "outputs": [],
   "source": [
    "def fill_missing_with_knn(df, columns):\n",
    "    imputer = KNNImputer(n_neighbors=5)\n",
    "    df[columns] = imputer.fit_transform(df[[columns]])\n",
    "    \n",
    "    return df"
   ]
  },
  {
   "cell_type": "code",
   "execution_count": 51,
   "metadata": {},
   "outputs": [],
   "source": [
    "def fill_missing_by_distribution(column):\n",
    "    value_counts = column.dropna().value_counts()\n",
    "    probabilities = value_counts / value_counts.sum()\n",
    "    column = column.fillna(column.apply(lambda x: np.random.choice(value_counts.index, p=probabilities) if pd.isna(x) else x))\n",
    "    \n",
    "    return column"
   ]
  },
  {
   "cell_type": "code",
   "execution_count": 52,
   "metadata": {},
   "outputs": [],
   "source": [
    "data = pd.read_csv('diabetic_data.csv')\n",
    "\n",
    "encounter_id = data['encounter_id']"
   ]
  },
  {
   "cell_type": "markdown",
   "metadata": {},
   "source": [
    "# Preprocess"
   ]
  },
  {
   "cell_type": "markdown",
   "metadata": {},
   "source": [
    "## duplicated"
   ]
  },
  {
   "cell_type": "code",
   "execution_count": 53,
   "metadata": {},
   "outputs": [
    {
     "data": {
      "text/plain": [
       "0"
      ]
     },
     "execution_count": 53,
     "metadata": {},
     "output_type": "execute_result"
    }
   ],
   "source": [
    "data.duplicated().sum()"
   ]
  },
  {
   "cell_type": "markdown",
   "metadata": {},
   "source": [
    "## Null"
   ]
  },
  {
   "cell_type": "markdown",
   "metadata": {},
   "source": [
    "### Question Mark as Null Value\n",
    "\n",
    "through the dataset, there are some missing datas:\n",
    "- ? marks\n",
    "- in `admission_type_id`, `discharge_disposition_id` and `admission_source_id` there are `NULL`, `Unknown/Invalid`, `Not Mapped` and `Not Available`."
   ]
  },
  {
   "cell_type": "code",
   "execution_count": 54,
   "metadata": {},
   "outputs": [],
   "source": [
    "data = data.replace('?', np.nan)"
   ]
  },
  {
   "cell_type": "code",
   "execution_count": 55,
   "metadata": {},
   "outputs": [],
   "source": [
    "data['admission_type_id'] = data['admission_type_id'].replace([5, 6, 8], np.nan)\n",
    "data['discharge_disposition_id'] = data['discharge_disposition_id'].replace([18, 25, 26], np.nan)\n",
    "data['admission_source_id'] = data['admission_source_id'].replace([9, 15, 17, 20, 21], np.nan)"
   ]
  },
  {
   "cell_type": "code",
   "execution_count": 56,
   "metadata": {},
   "outputs": [
    {
     "data": {
      "text/html": [
       "<div>\n",
       "<style scoped>\n",
       "    .dataframe tbody tr th:only-of-type {\n",
       "        vertical-align: middle;\n",
       "    }\n",
       "\n",
       "    .dataframe tbody tr th {\n",
       "        vertical-align: top;\n",
       "    }\n",
       "\n",
       "    .dataframe thead th {\n",
       "        text-align: right;\n",
       "    }\n",
       "</style>\n",
       "<table border=\"1\" class=\"dataframe\">\n",
       "  <thead>\n",
       "    <tr style=\"text-align: right;\">\n",
       "      <th></th>\n",
       "      <th>missing_count</th>\n",
       "      <th>missing_percentage</th>\n",
       "    </tr>\n",
       "  </thead>\n",
       "  <tbody>\n",
       "    <tr>\n",
       "      <th>race</th>\n",
       "      <td>2273</td>\n",
       "      <td>0.0223</td>\n",
       "    </tr>\n",
       "    <tr>\n",
       "      <th>weight</th>\n",
       "      <td>98569</td>\n",
       "      <td>0.9686</td>\n",
       "    </tr>\n",
       "    <tr>\n",
       "      <th>admission_type_id</th>\n",
       "      <td>10396</td>\n",
       "      <td>0.1022</td>\n",
       "    </tr>\n",
       "    <tr>\n",
       "      <th>discharge_disposition_id</th>\n",
       "      <td>4680</td>\n",
       "      <td>0.0460</td>\n",
       "    </tr>\n",
       "    <tr>\n",
       "      <th>admission_source_id</th>\n",
       "      <td>7067</td>\n",
       "      <td>0.0694</td>\n",
       "    </tr>\n",
       "    <tr>\n",
       "      <th>payer_code</th>\n",
       "      <td>40256</td>\n",
       "      <td>0.3956</td>\n",
       "    </tr>\n",
       "    <tr>\n",
       "      <th>medical_specialty</th>\n",
       "      <td>49949</td>\n",
       "      <td>0.4908</td>\n",
       "    </tr>\n",
       "    <tr>\n",
       "      <th>diag_1</th>\n",
       "      <td>21</td>\n",
       "      <td>0.0002</td>\n",
       "    </tr>\n",
       "    <tr>\n",
       "      <th>diag_2</th>\n",
       "      <td>358</td>\n",
       "      <td>0.0035</td>\n",
       "    </tr>\n",
       "    <tr>\n",
       "      <th>diag_3</th>\n",
       "      <td>1423</td>\n",
       "      <td>0.0140</td>\n",
       "    </tr>\n",
       "    <tr>\n",
       "      <th>max_glu_serum</th>\n",
       "      <td>96420</td>\n",
       "      <td>0.9475</td>\n",
       "    </tr>\n",
       "    <tr>\n",
       "      <th>A1Cresult</th>\n",
       "      <td>84748</td>\n",
       "      <td>0.8328</td>\n",
       "    </tr>\n",
       "  </tbody>\n",
       "</table>\n",
       "</div>"
      ],
      "text/plain": [
       "                          missing_count  missing_percentage\n",
       "race                               2273              0.0223\n",
       "weight                            98569              0.9686\n",
       "admission_type_id                 10396              0.1022\n",
       "discharge_disposition_id           4680              0.0460\n",
       "admission_source_id                7067              0.0694\n",
       "payer_code                        40256              0.3956\n",
       "medical_specialty                 49949              0.4908\n",
       "diag_1                               21              0.0002\n",
       "diag_2                              358              0.0035\n",
       "diag_3                             1423              0.0140\n",
       "max_glu_serum                     96420              0.9475\n",
       "A1Cresult                         84748              0.8328"
      ]
     },
     "execution_count": 56,
     "metadata": {},
     "output_type": "execute_result"
    }
   ],
   "source": [
    "missing_report(data)"
   ]
  },
  {
   "cell_type": "markdown",
   "metadata": {},
   "source": [
    "We drop values wit high null ratio."
   ]
  },
  {
   "cell_type": "code",
   "execution_count": 57,
   "metadata": {},
   "outputs": [],
   "source": [
    "data = data.drop(\n",
    "    columns=[\n",
    "        'weight',\n",
    "        'payer_code',\n",
    "        'max_glu_serum', \n",
    "        'A1Cresult',\n",
    "        'medical_specialty'\n",
    "    ], axis=1)"
   ]
  },
  {
   "cell_type": "code",
   "execution_count": 58,
   "metadata": {},
   "outputs": [
    {
     "data": {
      "text/html": [
       "<div>\n",
       "<style scoped>\n",
       "    .dataframe tbody tr th:only-of-type {\n",
       "        vertical-align: middle;\n",
       "    }\n",
       "\n",
       "    .dataframe tbody tr th {\n",
       "        vertical-align: top;\n",
       "    }\n",
       "\n",
       "    .dataframe thead th {\n",
       "        text-align: right;\n",
       "    }\n",
       "</style>\n",
       "<table border=\"1\" class=\"dataframe\">\n",
       "  <thead>\n",
       "    <tr style=\"text-align: right;\">\n",
       "      <th></th>\n",
       "      <th>missing_count</th>\n",
       "      <th>missing_percentage</th>\n",
       "    </tr>\n",
       "  </thead>\n",
       "  <tbody>\n",
       "    <tr>\n",
       "      <th>race</th>\n",
       "      <td>2273</td>\n",
       "      <td>0.0223</td>\n",
       "    </tr>\n",
       "    <tr>\n",
       "      <th>admission_type_id</th>\n",
       "      <td>10396</td>\n",
       "      <td>0.1022</td>\n",
       "    </tr>\n",
       "    <tr>\n",
       "      <th>discharge_disposition_id</th>\n",
       "      <td>4680</td>\n",
       "      <td>0.0460</td>\n",
       "    </tr>\n",
       "    <tr>\n",
       "      <th>admission_source_id</th>\n",
       "      <td>7067</td>\n",
       "      <td>0.0694</td>\n",
       "    </tr>\n",
       "    <tr>\n",
       "      <th>diag_1</th>\n",
       "      <td>21</td>\n",
       "      <td>0.0002</td>\n",
       "    </tr>\n",
       "    <tr>\n",
       "      <th>diag_2</th>\n",
       "      <td>358</td>\n",
       "      <td>0.0035</td>\n",
       "    </tr>\n",
       "    <tr>\n",
       "      <th>diag_3</th>\n",
       "      <td>1423</td>\n",
       "      <td>0.0140</td>\n",
       "    </tr>\n",
       "  </tbody>\n",
       "</table>\n",
       "</div>"
      ],
      "text/plain": [
       "                          missing_count  missing_percentage\n",
       "race                               2273              0.0223\n",
       "admission_type_id                 10396              0.1022\n",
       "discharge_disposition_id           4680              0.0460\n",
       "admission_source_id                7067              0.0694\n",
       "diag_1                               21              0.0002\n",
       "diag_2                              358              0.0035\n",
       "diag_3                             1423              0.0140"
      ]
     },
     "execution_count": 58,
     "metadata": {},
     "output_type": "execute_result"
    }
   ],
   "source": [
    "missing_report(data)"
   ]
  },
  {
   "cell_type": "markdown",
   "metadata": {},
   "source": [
    "## Useless data"
   ]
  },
  {
   "cell_type": "markdown",
   "metadata": {},
   "source": [
    "There is two type of useless data:\n",
    "\n",
    "1. unique onevalue for each sample such as IDs.\n",
    "\n",
    "2. datas with only one value"
   ]
  },
  {
   "cell_type": "code",
   "execution_count": 59,
   "metadata": {},
   "outputs": [
    {
     "name": "stdout",
     "output_type": "stream",
     "text": [
      "encounter_id 101766\n",
      "patient_nbr 71518\n",
      "race 5\n",
      "gender 3\n",
      "age 10\n",
      "admission_type_id 5\n",
      "discharge_disposition_id 24\n",
      "admission_source_id 14\n",
      "time_in_hospital 14\n",
      "num_lab_procedures 118\n",
      "num_procedures 7\n",
      "num_medications 75\n",
      "number_outpatient 39\n",
      "number_emergency 33\n",
      "number_inpatient 21\n",
      "diag_1 716\n",
      "diag_2 748\n",
      "diag_3 789\n",
      "number_diagnoses 16\n",
      "metformin 4\n",
      "repaglinide 4\n",
      "nateglinide 4\n",
      "chlorpropamide 4\n",
      "glimepiride 4\n",
      "acetohexamide 2\n",
      "glipizide 4\n",
      "glyburide 4\n",
      "tolbutamide 2\n",
      "pioglitazone 4\n",
      "rosiglitazone 4\n",
      "acarbose 4\n",
      "miglitol 4\n",
      "troglitazone 2\n",
      "tolazamide 3\n",
      "examide 1\n",
      "citoglipton 1\n",
      "insulin 4\n",
      "glyburide-metformin 4\n",
      "glipizide-metformin 2\n",
      "glimepiride-pioglitazone 2\n",
      "metformin-rosiglitazone 2\n",
      "metformin-pioglitazone 2\n",
      "change 2\n",
      "diabetesMed 2\n",
      "readmitted 3\n"
     ]
    }
   ],
   "source": [
    "for col in data.columns:\n",
    "    print(col, data[col].nunique())"
   ]
  },
  {
   "cell_type": "code",
   "execution_count": 60,
   "metadata": {},
   "outputs": [],
   "source": [
    "data = data.drop(columns=['encounter_id', 'patient_nbr', 'examide', 'citoglipton'], axis=1)"
   ]
  },
  {
   "cell_type": "markdown",
   "metadata": {},
   "source": [
    "## Feature Speccific Processing"
   ]
  },
  {
   "cell_type": "markdown",
   "metadata": {},
   "source": [
    "### race"
   ]
  },
  {
   "cell_type": "code",
   "execution_count": 61,
   "metadata": {},
   "outputs": [
    {
     "data": {
      "text/plain": [
       "race\n",
       "Caucasian          76099\n",
       "AfricanAmerican    19210\n",
       "NaN                 2273\n",
       "Hispanic            2037\n",
       "Other               1506\n",
       "Asian                641\n",
       "Name: count, dtype: int64"
      ]
     },
     "execution_count": 61,
     "metadata": {},
     "output_type": "execute_result"
    }
   ],
   "source": [
    "data['race'].value_counts(dropna=False)"
   ]
  },
  {
   "cell_type": "code",
   "execution_count": 62,
   "metadata": {},
   "outputs": [],
   "source": [
    "data['race'] = data['race'].replace(np.nan, 'Other')"
   ]
  },
  {
   "cell_type": "code",
   "execution_count": 63,
   "metadata": {},
   "outputs": [
    {
     "data": {
      "text/plain": [
       "race\n",
       "Caucasian          76099\n",
       "AfricanAmerican    19210\n",
       "Other               3779\n",
       "Hispanic            2037\n",
       "Asian                641\n",
       "Name: count, dtype: int64"
      ]
     },
     "execution_count": 63,
     "metadata": {},
     "output_type": "execute_result"
    }
   ],
   "source": [
    "data['race'].value_counts(dropna=False)"
   ]
  },
  {
   "cell_type": "markdown",
   "metadata": {},
   "source": [
    "### gender"
   ]
  },
  {
   "cell_type": "code",
   "execution_count": 64,
   "metadata": {},
   "outputs": [
    {
     "data": {
      "text/plain": [
       "gender\n",
       "Female             54708\n",
       "Male               47055\n",
       "Unknown/Invalid        3\n",
       "Name: count, dtype: int64"
      ]
     },
     "execution_count": 64,
     "metadata": {},
     "output_type": "execute_result"
    }
   ],
   "source": [
    "data['gender'].value_counts(dropna=False)"
   ]
  },
  {
   "cell_type": "code",
   "execution_count": 65,
   "metadata": {},
   "outputs": [],
   "source": [
    "data['gender'] = data['gender'].replace('Unknown/Invalid', np.nan)"
   ]
  },
  {
   "cell_type": "code",
   "execution_count": 66,
   "metadata": {},
   "outputs": [],
   "source": [
    "data['gender'] = fill_missing_by_distribution(data['gender'])"
   ]
  },
  {
   "cell_type": "code",
   "execution_count": 67,
   "metadata": {},
   "outputs": [
    {
     "data": {
      "text/plain": [
       "gender\n",
       "Female    54711\n",
       "Male      47055\n",
       "Name: count, dtype: int64"
      ]
     },
     "execution_count": 67,
     "metadata": {},
     "output_type": "execute_result"
    }
   ],
   "source": [
    "data['gender'].value_counts(dropna=False)"
   ]
  },
  {
   "cell_type": "markdown",
   "metadata": {},
   "source": [
    "### age"
   ]
  },
  {
   "cell_type": "code",
   "execution_count": 68,
   "metadata": {},
   "outputs": [
    {
     "data": {
      "text/plain": [
       "age\n",
       "[70-80)     26068\n",
       "[60-70)     22483\n",
       "[50-60)     17256\n",
       "[80-90)     17197\n",
       "[40-50)      9685\n",
       "[30-40)      3775\n",
       "[90-100)     2793\n",
       "[20-30)      1657\n",
       "[10-20)       691\n",
       "[0-10)        161\n",
       "Name: count, dtype: int64"
      ]
     },
     "execution_count": 68,
     "metadata": {},
     "output_type": "execute_result"
    }
   ],
   "source": [
    "data['age'].value_counts(dropna=False)"
   ]
  },
  {
   "cell_type": "code",
   "execution_count": 69,
   "metadata": {},
   "outputs": [
    {
     "name": "stderr",
     "output_type": "stream",
     "text": [
      "C:\\Users\\asus\\AppData\\Local\\Temp\\ipykernel_23300\\3108464427.py:1: FutureWarning: Downcasting behavior in `replace` is deprecated and will be removed in a future version. To retain the old behavior, explicitly call `result.infer_objects(copy=False)`. To opt-in to the future behavior, set `pd.set_option('future.no_silent_downcasting', True)`\n",
      "  data['age'] = data['age'].replace({\n"
     ]
    }
   ],
   "source": [
    "data['age'] = data['age'].replace({\n",
    "    '[0-10)': 0,\n",
    "    '[10-20)': 1,\n",
    "    '[20-30)': 2,\n",
    "    '[30-40)': 3,\n",
    "    '[40-50)': 4,\n",
    "    '[50-60)': 5,\n",
    "    '[60-70)': 6,\n",
    "    '[70-80)': 7,\n",
    "    '[80-90)': 8,\n",
    "    '[90-100)': 9\n",
    "})"
   ]
  },
  {
   "cell_type": "code",
   "execution_count": 70,
   "metadata": {},
   "outputs": [
    {
     "data": {
      "text/plain": [
       "age\n",
       "7    26068\n",
       "6    22483\n",
       "5    17256\n",
       "8    17197\n",
       "4     9685\n",
       "3     3775\n",
       "9     2793\n",
       "2     1657\n",
       "1      691\n",
       "0      161\n",
       "Name: count, dtype: int64"
      ]
     },
     "execution_count": 70,
     "metadata": {},
     "output_type": "execute_result"
    }
   ],
   "source": [
    "data['age'].value_counts(dropna=False)"
   ]
  },
  {
   "cell_type": "markdown",
   "metadata": {},
   "source": [
    "### admission_type_id"
   ]
  },
  {
   "cell_type": "code",
   "execution_count": 71,
   "metadata": {},
   "outputs": [
    {
     "data": {
      "text/plain": [
       "admission_type_id\n",
       "1.0    53990\n",
       "3.0    18869\n",
       "2.0    18480\n",
       "NaN    10396\n",
       "7.0       21\n",
       "4.0       10\n",
       "Name: count, dtype: int64"
      ]
     },
     "execution_count": 71,
     "metadata": {},
     "output_type": "execute_result"
    }
   ],
   "source": [
    "data['admission_type_id'].value_counts(dropna=False)"
   ]
  },
  {
   "cell_type": "code",
   "execution_count": 72,
   "metadata": {},
   "outputs": [
    {
     "data": {
      "text/plain": [
       "admission_type_id\n",
       "1.0    60152\n",
       "3.0    21089\n",
       "2.0    20490\n",
       "7.0       24\n",
       "4.0       11\n",
       "Name: count, dtype: int64"
      ]
     },
     "execution_count": 72,
     "metadata": {},
     "output_type": "execute_result"
    }
   ],
   "source": [
    "data['admission_type_id'] = fill_missing_by_distribution(data['admission_type_id'])\n",
    "data['admission_type_id'].value_counts(dropna=False)"
   ]
  },
  {
   "cell_type": "markdown",
   "metadata": {},
   "source": [
    "### discharge_disposition_id \n",
    "\n",
    "we group the similar ones to reduce complexity."
   ]
  },
  {
   "cell_type": "code",
   "execution_count": 73,
   "metadata": {},
   "outputs": [
    {
     "name": "stderr",
     "output_type": "stream",
     "text": [
      "C:\\Users\\asus\\AppData\\Local\\Temp\\ipykernel_23300\\2025307947.py:2: FutureWarning: A value is trying to be set on a copy of a DataFrame or Series through chained assignment using an inplace method.\n",
      "The behavior will change in pandas 3.0. This inplace method will never work because the intermediate object on which we are setting values always behaves as a copy.\n",
      "\n",
      "For example, when doing 'df[col].method(value, inplace=True)', try using 'df.method({col: value}, inplace=True)' or df[col] = df[col].method(value) instead, to perform the operation inplace on the original object.\n",
      "\n",
      "\n",
      "  data['discharge_disposition_id'].replace(\n"
     ]
    }
   ],
   "source": [
    "# dischare to home\n",
    "data['discharge_disposition_id'].replace(\n",
    "    to_replace=[\n",
    "        1, 6\n",
    "\t],\n",
    "    value = 'TO HOME',\n",
    "    inplace = True\n",
    ")\n",
    "\n",
    "data['discharge_disposition_id'].replace(\n",
    "    to_replace=[\n",
    "\t\t2, 3, 4, 5, 10, 22, 23, 24, 27, 28, 29, 30, 15, 16, 17,\t\n",
    "\t],\n",
    "    value = 'TO HEALTHCARE',\n",
    "    inplace = True\n",
    ")\n",
    "\n",
    "data['discharge_disposition_id'].replace(\n",
    "    to_replace=[\n",
    "\t\t11, 19, 20, 21\n",
    "\t],\n",
    "    value = 'EXPIRED',\n",
    "    inplace = True\n",
    ")\n",
    "\n",
    "data['discharge_disposition_id'].replace(\n",
    "    to_replace=[\n",
    "\t\t7, 8, 9, 12, 13, 14\n",
    "\t],\n",
    "    value = 'OTHER',\n",
    "    inplace = True\n",
    ")"
   ]
  },
  {
   "cell_type": "code",
   "execution_count": 74,
   "metadata": {},
   "outputs": [],
   "source": [
    "data['discharge_disposition_id'] = data['discharge_disposition_id'].astype('string')"
   ]
  },
  {
   "cell_type": "code",
   "execution_count": 75,
   "metadata": {},
   "outputs": [],
   "source": [
    "data['discharge_disposition_id'] = fill_missing_by_distribution(data['discharge_disposition_id'])"
   ]
  },
  {
   "cell_type": "code",
   "execution_count": 76,
   "metadata": {},
   "outputs": [
    {
     "data": {
      "text/plain": [
       "discharge_disposition_id\n",
       "TO HOME          76687\n",
       "TO HEALTHCARE    21730\n",
       "EXPIRED           1744\n",
       "OTHER             1605\n",
       "Name: count, dtype: Int64"
      ]
     },
     "execution_count": 76,
     "metadata": {},
     "output_type": "execute_result"
    }
   ],
   "source": [
    "data['discharge_disposition_id'].value_counts(dropna=False)"
   ]
  },
  {
   "cell_type": "markdown",
   "metadata": {},
   "source": [
    "### admission_source_id \n",
    "\n",
    "Here we also group the similar ones."
   ]
  },
  {
   "cell_type": "code",
   "execution_count": 77,
   "metadata": {},
   "outputs": [
    {
     "name": "stderr",
     "output_type": "stream",
     "text": [
      "C:\\Users\\asus\\AppData\\Local\\Temp\\ipykernel_23300\\514725720.py:1: FutureWarning: A value is trying to be set on a copy of a DataFrame or Series through chained assignment using an inplace method.\n",
      "The behavior will change in pandas 3.0. This inplace method will never work because the intermediate object on which we are setting values always behaves as a copy.\n",
      "\n",
      "For example, when doing 'df[col].method(value, inplace=True)', try using 'df.method({col: value}, inplace=True)' or df[col] = df[col].method(value) instead, to perform the operation inplace on the original object.\n",
      "\n",
      "\n",
      "  data['admission_source_id'].replace(\n"
     ]
    }
   ],
   "source": [
    "data['admission_source_id'].replace(\n",
    "    to_replace=[1, 2, 3],\n",
    "    value = 'referrals',\n",
    "    inplace = True\n",
    ")\n",
    "\n",
    "data['admission_source_id'].replace(\n",
    "    to_replace=[4, 5, 6, 10, 22, 25, 26],\n",
    "    value = 'transfer',\n",
    "    inplace = True\n",
    ")\n",
    "\n",
    "data['admission_source_id'].replace(\n",
    "    to_replace=[11, 12, 13, 14, 23, 24],\n",
    "    value = 'delivery',\n",
    "    inplace = True\n",
    ")\n",
    "\n",
    "data['admission_source_id'].replace(\n",
    "    to_replace=[7, 8],\n",
    "    value = 'emergency',\n",
    "    inplace = True\n",
    ")\n",
    "\n",
    "data['admission_source_id'].replace(\n",
    "    to_replace=[9, 18, 19, np.nan],\n",
    "    value = 'other',\n",
    "    inplace = True\n",
    ")"
   ]
  },
  {
   "cell_type": "code",
   "execution_count": 78,
   "metadata": {},
   "outputs": [
    {
     "data": {
      "text/plain": [
       "admission_source_id\n",
       "emergency    57510\n",
       "referrals    30856\n",
       "other         7067\n",
       "transfer      6328\n",
       "delivery         5\n",
       "Name: count, dtype: int64"
      ]
     },
     "execution_count": 78,
     "metadata": {},
     "output_type": "execute_result"
    }
   ],
   "source": [
    "data['admission_source_id'].value_counts(dropna = False)"
   ]
  },
  {
   "cell_type": "code",
   "execution_count": 79,
   "metadata": {},
   "outputs": [
    {
     "data": {
      "text/plain": [
       "admission_source_id\n",
       "emergency    57510\n",
       "referrals    30856\n",
       "other         7072\n",
       "transfer      6328\n",
       "Name: count, dtype: int64"
      ]
     },
     "execution_count": 79,
     "metadata": {},
     "output_type": "execute_result"
    }
   ],
   "source": [
    "data['admission_source_id'] = data['admission_source_id'].replace('delivery', 'other')\n",
    "data['admission_source_id'].value_counts(dropna = False)\n"
   ]
  },
  {
   "cell_type": "markdown",
   "metadata": {},
   "source": [
    "### time_in_hospital\n",
    "\n",
    "we categorize this feature according to the quantiles, also there are more numeric data like this, but their information are more critical and useful, so we keep the original values."
   ]
  },
  {
   "cell_type": "code",
   "execution_count": 81,
   "metadata": {},
   "outputs": [
    {
     "name": "stdout",
     "output_type": "stream",
     "text": [
      "0.3333333333333333 3.0\n",
      "0.6666666666666666 5.0\n"
     ]
    }
   ],
   "source": [
    "categorize_quantile(data['time_in_hospital'], 3)"
   ]
  },
  {
   "cell_type": "code",
   "execution_count": 82,
   "metadata": {},
   "outputs": [
    {
     "data": {
      "text/plain": [
       "time_in_hospital\n",
       "short       49188\n",
       "long        28688\n",
       "moderate    23890\n",
       "Name: count, dtype: int64"
      ]
     },
     "execution_count": 82,
     "metadata": {},
     "output_type": "execute_result"
    }
   ],
   "source": [
    "def to_group_time_in_hospital(x):\n",
    "\tif x <= 3:\n",
    "\t\treturn 'short'\n",
    "\telif 3 < x <= 5:\n",
    "\t\treturn 'moderate'\n",
    "\telse:\n",
    "\t\treturn 'long'\n",
    "\n",
    "\n",
    "data['time_in_hospital'] = data['time_in_hospital'].apply(to_group_time_in_hospital)\n",
    "data['time_in_hospital'].value_counts(dropna = False)"
   ]
  },
  {
   "cell_type": "markdown",
   "metadata": {},
   "source": [
    "### diag_i\n",
    "\n",
    "According to [WikiPedia ICD-9 codes](<\\https://en.wikipedia.org/wiki/List_of_ICD-9_codes_240%E2%80%93279:_endocrine,_nutritional_and_metabolic_diseases,_and_immunity_disorders>), we categorize the codes. "
   ]
  },
  {
   "cell_type": "code",
   "execution_count": 83,
   "metadata": {},
   "outputs": [],
   "source": [
    "data['diag_1'] = fill_missing_by_distribution(data['diag_1'])\n",
    "data['diag_2'] = fill_missing_by_distribution(data['diag_2'])\n",
    "data['diag_3'] = fill_missing_by_distribution(data['diag_3'])\n"
   ]
  },
  {
   "cell_type": "code",
   "execution_count": 84,
   "metadata": {},
   "outputs": [],
   "source": [
    "def categorize_diag(block: str):\n",
    "\tblock = str(block)\n",
    "\tif(block.startswith('V')):\n",
    "\t\treturn 'Supplementary Classification of Factors influencing Health Status and Contact with Health Services'\n",
    "\tif(block.startswith('E')):\n",
    "\t\treturn 'Supplementary Classification of External Causes of Injury and Poisoning'\n",
    "\tif(block.startswith('M')):\n",
    "\t\treturn 'Morphology of Neoplasms'\n",
    "\t\n",
    "\tblock = float(block)\n",
    "\tif 1 <= block < 140:\n",
    "\t\treturn \"Infectious and Parasitic Diseases\"\n",
    "\telif 140 <= block < 240:\n",
    "\t\treturn \"Neoplasms\"\n",
    "\telif 240 <= block < 280:\n",
    "\t\treturn \"Endocrine, Nutritional and Metabolic Diseases, and Immunity Disorders\"\n",
    "\telif 280 <= block < 290:\n",
    "\t\treturn \"Diseases of the Blood and Blood-forming Organs\"\n",
    "\telif 290 <= block < 320:\n",
    "\t\treturn \"Mental Disorders\"\n",
    "\telif 320 <= block < 390:\n",
    "\t\treturn \"Diseases of the Nervous System and Sense Organs\"\n",
    "\telif 390 <= block < 460:\n",
    "\t\treturn \"Diseases of the Circulatory System\"\n",
    "\telif 460 <= block < 520:\n",
    "\t\treturn \"Diseases of the Respiratory System\"\n",
    "\telif 520 <= block < 580:\n",
    "\t\treturn \"Diseases of the Digestive System\"\n",
    "\telif 580 <= block < 630:\n",
    "\t\treturn \"Diseases of the Genitourinary System\"\n",
    "\telif 630 <= block < 680:\n",
    "\t\treturn \"Complications of Pregnancy, Childbirth, and the Puerperium\"\n",
    "\telif 680 <= block < 710:\n",
    "\t\treturn \"Diseases of the Skin and Subcutaneous Tissue\"\n",
    "\telif 710 <= block < 740:\n",
    "\t\treturn \"Diseases of the Musculoskeletal System and Connective Tissue\"\n",
    "\telif 740 <= block < 760:\n",
    "\t\treturn \"Congenital Anomalies\"\n",
    "\telif 760 <= block < 780:\n",
    "\t\treturn \"Certain Conditions originating in the Perinatal Period\"\n",
    "\telif 780 <= block < 800:\n",
    "\t\treturn \"Symptoms, Signs and Ill-defined Conditions\"\n",
    "\telif 800 <= block < 1000:\n",
    "\t\treturn \"Injury and Poisoning\"\n",
    "\telse:\n",
    "\t\treturn \"Unknown Title\"\n",
    "\t\n"
   ]
  },
  {
   "cell_type": "code",
   "execution_count": 85,
   "metadata": {},
   "outputs": [],
   "source": [
    "data['diag_1'] = data['diag_1'].apply(categorize_diag)\n",
    "data['diag_2'] = data['diag_2'].apply(categorize_diag)\n",
    "data['diag_3'] = data['diag_3'].apply(categorize_diag)"
   ]
  },
  {
   "cell_type": "markdown",
   "metadata": {},
   "source": [
    "## Drugs\n"
   ]
  },
  {
   "cell_type": "markdown",
   "metadata": {},
   "source": [
    "Drugs has 4 categories, to keep the similarity, we encode them manually.(so the labels respond to the same things.)"
   ]
  },
  {
   "cell_type": "code",
   "execution_count": 86,
   "metadata": {},
   "outputs": [],
   "source": [
    "drugs = [\n",
    "\t'metformin',\n",
    "\t'repaglinide',\n",
    "\t'nateglinide',\n",
    "\t'chlorpropamide',\n",
    "\t'glimepiride',\n",
    "\t'acetohexamide',\n",
    "\t'glipizide',\n",
    "\t'glyburide',\n",
    "\t'tolbutamide',\n",
    "\t'pioglitazone',\n",
    "\t'rosiglitazone',\n",
    "\t'acarbose',\n",
    "\t'miglitol',\n",
    "\t'troglitazone',\n",
    "\t'tolazamide',\n",
    "\t'insulin',\n",
    "\t'glyburide-metformin',\n",
    "\t'glipizide-metformin',\n",
    "\t'glimepiride-pioglitazone',\n",
    "\t'metformin-rosiglitazone',\n",
    "\t'metformin-pioglitazone',\n",
    "]\n"
   ]
  },
  {
   "cell_type": "code",
   "execution_count": 87,
   "metadata": {},
   "outputs": [],
   "source": [
    "def categorize_drug(usage):\n",
    "    if(usage == 'No'):\n",
    "        return 0\n",
    "    if(usage == 'Steady'):\n",
    "        return 1\n",
    "    if(usage == 'Up'):\n",
    "        return 2\n",
    "    if(usage == 'Down'):\n",
    "        return 3\n",
    "\n",
    "for drug in drugs:\n",
    "    data[drug] = data[drug].apply(categorize_drug)"
   ]
  },
  {
   "cell_type": "markdown",
   "metadata": {},
   "source": [
    "## Label Encoding\n",
    "\n",
    "we need numeric values to continue."
   ]
  },
  {
   "cell_type": "code",
   "execution_count": 88,
   "metadata": {},
   "outputs": [],
   "source": [
    "encoder = LabelEncoder()"
   ]
  },
  {
   "cell_type": "code",
   "execution_count": 89,
   "metadata": {},
   "outputs": [],
   "source": [
    "for col in data.columns:\n",
    "\tif data[col].dtype == 'object' or data[col].dtype == 'string':\n",
    "\t\tdata[col] = encoder.fit_transform(data[col])"
   ]
  },
  {
   "cell_type": "code",
   "execution_count": 90,
   "metadata": {},
   "outputs": [
    {
     "data": {
      "text/html": [
       "<div>\n",
       "<style scoped>\n",
       "    .dataframe tbody tr th:only-of-type {\n",
       "        vertical-align: middle;\n",
       "    }\n",
       "\n",
       "    .dataframe tbody tr th {\n",
       "        vertical-align: top;\n",
       "    }\n",
       "\n",
       "    .dataframe thead th {\n",
       "        text-align: right;\n",
       "    }\n",
       "</style>\n",
       "<table border=\"1\" class=\"dataframe\">\n",
       "  <thead>\n",
       "    <tr style=\"text-align: right;\">\n",
       "      <th></th>\n",
       "      <th>race</th>\n",
       "      <th>gender</th>\n",
       "      <th>age</th>\n",
       "      <th>admission_type_id</th>\n",
       "      <th>discharge_disposition_id</th>\n",
       "      <th>admission_source_id</th>\n",
       "      <th>time_in_hospital</th>\n",
       "      <th>num_lab_procedures</th>\n",
       "      <th>num_procedures</th>\n",
       "      <th>num_medications</th>\n",
       "      <th>...</th>\n",
       "      <th>tolazamide</th>\n",
       "      <th>insulin</th>\n",
       "      <th>glyburide-metformin</th>\n",
       "      <th>glipizide-metformin</th>\n",
       "      <th>glimepiride-pioglitazone</th>\n",
       "      <th>metformin-rosiglitazone</th>\n",
       "      <th>metformin-pioglitazone</th>\n",
       "      <th>change</th>\n",
       "      <th>diabetesMed</th>\n",
       "      <th>readmitted</th>\n",
       "    </tr>\n",
       "  </thead>\n",
       "  <tbody>\n",
       "    <tr>\n",
       "      <th>0</th>\n",
       "      <td>2</td>\n",
       "      <td>0</td>\n",
       "      <td>0</td>\n",
       "      <td>1.0</td>\n",
       "      <td>2</td>\n",
       "      <td>2</td>\n",
       "      <td>2</td>\n",
       "      <td>41</td>\n",
       "      <td>0</td>\n",
       "      <td>1</td>\n",
       "      <td>...</td>\n",
       "      <td>0</td>\n",
       "      <td>0</td>\n",
       "      <td>0</td>\n",
       "      <td>0</td>\n",
       "      <td>0</td>\n",
       "      <td>0</td>\n",
       "      <td>0</td>\n",
       "      <td>1</td>\n",
       "      <td>0</td>\n",
       "      <td>2</td>\n",
       "    </tr>\n",
       "    <tr>\n",
       "      <th>1</th>\n",
       "      <td>2</td>\n",
       "      <td>0</td>\n",
       "      <td>1</td>\n",
       "      <td>1.0</td>\n",
       "      <td>3</td>\n",
       "      <td>0</td>\n",
       "      <td>2</td>\n",
       "      <td>59</td>\n",
       "      <td>0</td>\n",
       "      <td>18</td>\n",
       "      <td>...</td>\n",
       "      <td>0</td>\n",
       "      <td>2</td>\n",
       "      <td>0</td>\n",
       "      <td>0</td>\n",
       "      <td>0</td>\n",
       "      <td>0</td>\n",
       "      <td>0</td>\n",
       "      <td>0</td>\n",
       "      <td>1</td>\n",
       "      <td>1</td>\n",
       "    </tr>\n",
       "    <tr>\n",
       "      <th>2</th>\n",
       "      <td>0</td>\n",
       "      <td>0</td>\n",
       "      <td>2</td>\n",
       "      <td>1.0</td>\n",
       "      <td>3</td>\n",
       "      <td>0</td>\n",
       "      <td>2</td>\n",
       "      <td>11</td>\n",
       "      <td>5</td>\n",
       "      <td>13</td>\n",
       "      <td>...</td>\n",
       "      <td>0</td>\n",
       "      <td>0</td>\n",
       "      <td>0</td>\n",
       "      <td>0</td>\n",
       "      <td>0</td>\n",
       "      <td>0</td>\n",
       "      <td>0</td>\n",
       "      <td>1</td>\n",
       "      <td>1</td>\n",
       "      <td>2</td>\n",
       "    </tr>\n",
       "    <tr>\n",
       "      <th>3</th>\n",
       "      <td>2</td>\n",
       "      <td>1</td>\n",
       "      <td>3</td>\n",
       "      <td>1.0</td>\n",
       "      <td>3</td>\n",
       "      <td>0</td>\n",
       "      <td>2</td>\n",
       "      <td>44</td>\n",
       "      <td>1</td>\n",
       "      <td>16</td>\n",
       "      <td>...</td>\n",
       "      <td>0</td>\n",
       "      <td>2</td>\n",
       "      <td>0</td>\n",
       "      <td>0</td>\n",
       "      <td>0</td>\n",
       "      <td>0</td>\n",
       "      <td>0</td>\n",
       "      <td>0</td>\n",
       "      <td>1</td>\n",
       "      <td>2</td>\n",
       "    </tr>\n",
       "    <tr>\n",
       "      <th>4</th>\n",
       "      <td>2</td>\n",
       "      <td>1</td>\n",
       "      <td>4</td>\n",
       "      <td>1.0</td>\n",
       "      <td>3</td>\n",
       "      <td>0</td>\n",
       "      <td>2</td>\n",
       "      <td>51</td>\n",
       "      <td>0</td>\n",
       "      <td>8</td>\n",
       "      <td>...</td>\n",
       "      <td>0</td>\n",
       "      <td>1</td>\n",
       "      <td>0</td>\n",
       "      <td>0</td>\n",
       "      <td>0</td>\n",
       "      <td>0</td>\n",
       "      <td>0</td>\n",
       "      <td>0</td>\n",
       "      <td>1</td>\n",
       "      <td>2</td>\n",
       "    </tr>\n",
       "    <tr>\n",
       "      <th>...</th>\n",
       "      <td>...</td>\n",
       "      <td>...</td>\n",
       "      <td>...</td>\n",
       "      <td>...</td>\n",
       "      <td>...</td>\n",
       "      <td>...</td>\n",
       "      <td>...</td>\n",
       "      <td>...</td>\n",
       "      <td>...</td>\n",
       "      <td>...</td>\n",
       "      <td>...</td>\n",
       "      <td>...</td>\n",
       "      <td>...</td>\n",
       "      <td>...</td>\n",
       "      <td>...</td>\n",
       "      <td>...</td>\n",
       "      <td>...</td>\n",
       "      <td>...</td>\n",
       "      <td>...</td>\n",
       "      <td>...</td>\n",
       "      <td>...</td>\n",
       "    </tr>\n",
       "    <tr>\n",
       "      <th>101761</th>\n",
       "      <td>0</td>\n",
       "      <td>1</td>\n",
       "      <td>7</td>\n",
       "      <td>1.0</td>\n",
       "      <td>2</td>\n",
       "      <td>0</td>\n",
       "      <td>2</td>\n",
       "      <td>51</td>\n",
       "      <td>0</td>\n",
       "      <td>16</td>\n",
       "      <td>...</td>\n",
       "      <td>0</td>\n",
       "      <td>3</td>\n",
       "      <td>0</td>\n",
       "      <td>0</td>\n",
       "      <td>0</td>\n",
       "      <td>0</td>\n",
       "      <td>0</td>\n",
       "      <td>0</td>\n",
       "      <td>1</td>\n",
       "      <td>1</td>\n",
       "    </tr>\n",
       "    <tr>\n",
       "      <th>101762</th>\n",
       "      <td>0</td>\n",
       "      <td>0</td>\n",
       "      <td>8</td>\n",
       "      <td>1.0</td>\n",
       "      <td>2</td>\n",
       "      <td>3</td>\n",
       "      <td>1</td>\n",
       "      <td>33</td>\n",
       "      <td>3</td>\n",
       "      <td>18</td>\n",
       "      <td>...</td>\n",
       "      <td>0</td>\n",
       "      <td>1</td>\n",
       "      <td>0</td>\n",
       "      <td>0</td>\n",
       "      <td>0</td>\n",
       "      <td>0</td>\n",
       "      <td>0</td>\n",
       "      <td>1</td>\n",
       "      <td>1</td>\n",
       "      <td>2</td>\n",
       "    </tr>\n",
       "    <tr>\n",
       "      <th>101763</th>\n",
       "      <td>2</td>\n",
       "      <td>1</td>\n",
       "      <td>7</td>\n",
       "      <td>1.0</td>\n",
       "      <td>3</td>\n",
       "      <td>0</td>\n",
       "      <td>2</td>\n",
       "      <td>53</td>\n",
       "      <td>0</td>\n",
       "      <td>9</td>\n",
       "      <td>...</td>\n",
       "      <td>0</td>\n",
       "      <td>3</td>\n",
       "      <td>0</td>\n",
       "      <td>0</td>\n",
       "      <td>0</td>\n",
       "      <td>0</td>\n",
       "      <td>0</td>\n",
       "      <td>0</td>\n",
       "      <td>1</td>\n",
       "      <td>2</td>\n",
       "    </tr>\n",
       "    <tr>\n",
       "      <th>101764</th>\n",
       "      <td>2</td>\n",
       "      <td>0</td>\n",
       "      <td>8</td>\n",
       "      <td>2.0</td>\n",
       "      <td>2</td>\n",
       "      <td>0</td>\n",
       "      <td>0</td>\n",
       "      <td>45</td>\n",
       "      <td>2</td>\n",
       "      <td>21</td>\n",
       "      <td>...</td>\n",
       "      <td>0</td>\n",
       "      <td>2</td>\n",
       "      <td>0</td>\n",
       "      <td>0</td>\n",
       "      <td>0</td>\n",
       "      <td>0</td>\n",
       "      <td>0</td>\n",
       "      <td>0</td>\n",
       "      <td>1</td>\n",
       "      <td>2</td>\n",
       "    </tr>\n",
       "    <tr>\n",
       "      <th>101765</th>\n",
       "      <td>2</td>\n",
       "      <td>1</td>\n",
       "      <td>7</td>\n",
       "      <td>1.0</td>\n",
       "      <td>3</td>\n",
       "      <td>0</td>\n",
       "      <td>0</td>\n",
       "      <td>13</td>\n",
       "      <td>3</td>\n",
       "      <td>3</td>\n",
       "      <td>...</td>\n",
       "      <td>0</td>\n",
       "      <td>0</td>\n",
       "      <td>0</td>\n",
       "      <td>0</td>\n",
       "      <td>0</td>\n",
       "      <td>0</td>\n",
       "      <td>0</td>\n",
       "      <td>1</td>\n",
       "      <td>0</td>\n",
       "      <td>2</td>\n",
       "    </tr>\n",
       "  </tbody>\n",
       "</table>\n",
       "<p>101766 rows × 41 columns</p>\n",
       "</div>"
      ],
      "text/plain": [
       "        race  gender  age  admission_type_id  discharge_disposition_id  \\\n",
       "0          2       0    0                1.0                         2   \n",
       "1          2       0    1                1.0                         3   \n",
       "2          0       0    2                1.0                         3   \n",
       "3          2       1    3                1.0                         3   \n",
       "4          2       1    4                1.0                         3   \n",
       "...      ...     ...  ...                ...                       ...   \n",
       "101761     0       1    7                1.0                         2   \n",
       "101762     0       0    8                1.0                         2   \n",
       "101763     2       1    7                1.0                         3   \n",
       "101764     2       0    8                2.0                         2   \n",
       "101765     2       1    7                1.0                         3   \n",
       "\n",
       "        admission_source_id  time_in_hospital  num_lab_procedures  \\\n",
       "0                         2                 2                  41   \n",
       "1                         0                 2                  59   \n",
       "2                         0                 2                  11   \n",
       "3                         0                 2                  44   \n",
       "4                         0                 2                  51   \n",
       "...                     ...               ...                 ...   \n",
       "101761                    0                 2                  51   \n",
       "101762                    3                 1                  33   \n",
       "101763                    0                 2                  53   \n",
       "101764                    0                 0                  45   \n",
       "101765                    0                 0                  13   \n",
       "\n",
       "        num_procedures  num_medications  ...  tolazamide  insulin  \\\n",
       "0                    0                1  ...           0        0   \n",
       "1                    0               18  ...           0        2   \n",
       "2                    5               13  ...           0        0   \n",
       "3                    1               16  ...           0        2   \n",
       "4                    0                8  ...           0        1   \n",
       "...                ...              ...  ...         ...      ...   \n",
       "101761               0               16  ...           0        3   \n",
       "101762               3               18  ...           0        1   \n",
       "101763               0                9  ...           0        3   \n",
       "101764               2               21  ...           0        2   \n",
       "101765               3                3  ...           0        0   \n",
       "\n",
       "        glyburide-metformin  glipizide-metformin  glimepiride-pioglitazone  \\\n",
       "0                         0                    0                         0   \n",
       "1                         0                    0                         0   \n",
       "2                         0                    0                         0   \n",
       "3                         0                    0                         0   \n",
       "4                         0                    0                         0   \n",
       "...                     ...                  ...                       ...   \n",
       "101761                    0                    0                         0   \n",
       "101762                    0                    0                         0   \n",
       "101763                    0                    0                         0   \n",
       "101764                    0                    0                         0   \n",
       "101765                    0                    0                         0   \n",
       "\n",
       "        metformin-rosiglitazone  metformin-pioglitazone  change  diabetesMed  \\\n",
       "0                             0                       0       1            0   \n",
       "1                             0                       0       0            1   \n",
       "2                             0                       0       1            1   \n",
       "3                             0                       0       0            1   \n",
       "4                             0                       0       0            1   \n",
       "...                         ...                     ...     ...          ...   \n",
       "101761                        0                       0       0            1   \n",
       "101762                        0                       0       1            1   \n",
       "101763                        0                       0       0            1   \n",
       "101764                        0                       0       0            1   \n",
       "101765                        0                       0       1            0   \n",
       "\n",
       "        readmitted  \n",
       "0                2  \n",
       "1                1  \n",
       "2                2  \n",
       "3                2  \n",
       "4                2  \n",
       "...            ...  \n",
       "101761           1  \n",
       "101762           2  \n",
       "101763           2  \n",
       "101764           2  \n",
       "101765           2  \n",
       "\n",
       "[101766 rows x 41 columns]"
      ]
     },
     "execution_count": 90,
     "metadata": {},
     "output_type": "execute_result"
    }
   ],
   "source": [
    "data"
   ]
  },
  {
   "cell_type": "markdown",
   "metadata": {},
   "source": [
    "# Dimensionality Reduction"
   ]
  },
  {
   "cell_type": "markdown",
   "metadata": {},
   "source": [
    "## PCA\n",
    "\n",
    "Principal Component Analysis (PCA) is a powerful technique used for dimensionality reduction, exploratory data analysis, and visualization. Let me break it down for you:\n",
    "\n",
    "1. Objective:\n",
    "- PCA aims to transform a set of correlated variables into a new coordinate system where the directions (principal components) capture the largest variation in the data.\n",
    "- These principal components are linear combinations of the original variables.\n",
    "\n",
    "2. How It Works:\n",
    "- Given a dataset with multiple dimensions (variables), PCA identifies the directions along which the data varies the most.\n",
    "- The first principal component (PC1) is the linear combination of the original variables that explains the most variance.\n",
    "- Subsequent principal components (PC2, PC3, etc.) explain the remaining variance after removing the effect of the previous components.\n",
    "- Each principal component is orthogonal (uncorrelated) to the others.\n",
    "\n",
    "3. Mathematical Details:\n",
    "- Let’s say we have a dataset with (n) data points and (m) features (variables).\n",
    "- The covariance matrix of the features is computed.\n",
    "- The eigenvectors and eigenvalues of this covariance matrix are calculated.\n",
    "- The eigenvectors represent the directions of the principal components, and the eigenvalues indicate the amount of variance explained by each component.\n",
    "\n",
    "4. Applications:\n",
    "- Data Visualization: PCA is often used to reduce high-dimensional data to 2D or 3D for visualization.\n",
    "- Feature Selection: By keeping only the top principal components, we can reduce the number of features while retaining most of the information.\n",
    "\n",
    "- Noise Reduction: Removing less significant components can help filter out noise.\n",
    "\n",
    "- Clustering and Classification: PCA can improve the performance of machine learning models."
   ]
  },
  {
   "cell_type": "markdown",
   "metadata": {},
   "source": [
    "### Outliers Visualization\n",
    "\n",
    "This is a visualization of data with two features to only show the outliers to ease the comprehension of both PCA and outliers."
   ]
  },
  {
   "cell_type": "code",
   "execution_count": 91,
   "metadata": {},
   "outputs": [
    {
     "data": {
      "text/plain": [
       "<Axes: >"
      ]
     },
     "execution_count": 91,
     "metadata": {},
     "output_type": "execute_result"
    },
    {
     "data": {
      "image/png": "[encoded data removed]",
      "text/plain": [
       "<Figure size 640x480 with 1 Axes>"
      ]
     },
     "metadata": {},
     "output_type": "display_data"
    }
   ],
   "source": [
    "pca = PCA(n_components=2) \n",
    "xpca_outlier = pca.fit_transform(data)\n",
    "sea.scatterplot(x=xpca_outlier[:, 0], y=xpca_outlier[:, 1])"
   ]
  },
  {
   "cell_type": "markdown",
   "metadata": {},
   "source": [
    "### Reduction according to portion of Variance"
   ]
  },
  {
   "cell_type": "code",
   "execution_count": 124,
   "metadata": {},
   "outputs": [],
   "source": [
    "pca = PCA(n_components=0.95, svd_solver='full') \n",
    "xpca = pca.fit_transform(data)"
   ]
  },
  {
   "cell_type": "code",
   "execution_count": 125,
   "metadata": {},
   "outputs": [
    {
     "data": {
      "text/plain": [
       "(101766, 5)"
      ]
     },
     "execution_count": 125,
     "metadata": {},
     "output_type": "execute_result"
    }
   ],
   "source": [
    "xpca.shape"
   ]
  },
  {
   "cell_type": "markdown",
   "metadata": {},
   "source": [
    "### Handling Outliers"
   ]
  },
  {
   "cell_type": "code",
   "execution_count": 126,
   "metadata": {},
   "outputs": [],
   "source": [
    "mean_values = np.mean(xpca, axis=0)\n",
    "std_values = np.std(xpca, axis=0)\n",
    "z_scores = (xpca - mean_values) / std_values\n",
    "\n",
    "\n",
    "threshold = 3\n",
    "outliers = np.abs(z_scores) > threshold\n"
   ]
  },
  {
   "cell_type": "code",
   "execution_count": 127,
   "metadata": {},
   "outputs": [],
   "source": [
    "mask = np.full(shape=xpca.shape[0], fill_value=False, dtype=bool)\n",
    "for i in range(xpca.shape[1]):\n",
    "    mask += outliers[:, i]"
   ]
  },
  {
   "cell_type": "code",
   "execution_count": 128,
   "metadata": {},
   "outputs": [],
   "source": [
    "xpca = xpca[~mask, :]"
   ]
  },
  {
   "cell_type": "code",
   "execution_count": 129,
   "metadata": {},
   "outputs": [
    {
     "data": {
      "text/plain": [
       "(100334, 5)"
      ]
     },
     "execution_count": 129,
     "metadata": {},
     "output_type": "execute_result"
    }
   ],
   "source": [
    "xpca.shape"
   ]
  },
  {
   "cell_type": "markdown",
   "metadata": {},
   "source": [
    "# Unsupervised Learning "
   ]
  },
  {
   "cell_type": "code",
   "execution_count": 130,
   "metadata": {},
   "outputs": [],
   "source": [
    "clusters = pd.DataFrame(columns=['encounter_id', 'kmean_label', 'dbscan_label'])\n",
    "clusters['encounter_id'] = encounter_id"
   ]
  },
  {
   "cell_type": "markdown",
   "metadata": {},
   "source": [
    "## K-Means"
   ]
  },
  {
   "cell_type": "code",
   "execution_count": 116,
   "metadata": {},
   "outputs": [],
   "source": [
    "results = pd.DataFrame(columns=['n_clusters', 'silhouette_score'])\n",
    "\n",
    "for n_clusters in range(2, 11):\n",
    "\tkmeans = KMeans(n_clusters=n_clusters)\n",
    "\tkmeans.fit(xpca)\n",
    "\tlabels = kmeans.labels_\n",
    "\tscore = silhouette_score(xpca, labels)\n",
    "\tresults.loc[len(results)] = {'n_clusters': n_clusters, 'silhouette_score': score}"
   ]
  },
  {
   "cell_type": "code",
   "execution_count": 117,
   "metadata": {},
   "outputs": [
    {
     "data": {
      "text/html": [
       "<div>\n",
       "<style scoped>\n",
       "    .dataframe tbody tr th:only-of-type {\n",
       "        vertical-align: middle;\n",
       "    }\n",
       "\n",
       "    .dataframe tbody tr th {\n",
       "        vertical-align: top;\n",
       "    }\n",
       "\n",
       "    .dataframe thead th {\n",
       "        text-align: right;\n",
       "    }\n",
       "</style>\n",
       "<table border=\"1\" class=\"dataframe\">\n",
       "  <thead>\n",
       "    <tr style=\"text-align: right;\">\n",
       "      <th></th>\n",
       "      <th>n_clusters</th>\n",
       "      <th>silhouette_score</th>\n",
       "    </tr>\n",
       "  </thead>\n",
       "  <tbody>\n",
       "    <tr>\n",
       "      <th>0</th>\n",
       "      <td>2</td>\n",
       "      <td>0.388750</td>\n",
       "    </tr>\n",
       "    <tr>\n",
       "      <th>1</th>\n",
       "      <td>3</td>\n",
       "      <td>0.334554</td>\n",
       "    </tr>\n",
       "    <tr>\n",
       "      <th>2</th>\n",
       "      <td>4</td>\n",
       "      <td>0.257924</td>\n",
       "    </tr>\n",
       "    <tr>\n",
       "      <th>3</th>\n",
       "      <td>5</td>\n",
       "      <td>0.220455</td>\n",
       "    </tr>\n",
       "    <tr>\n",
       "      <th>4</th>\n",
       "      <td>6</td>\n",
       "      <td>0.228445</td>\n",
       "    </tr>\n",
       "    <tr>\n",
       "      <th>5</th>\n",
       "      <td>7</td>\n",
       "      <td>0.199047</td>\n",
       "    </tr>\n",
       "    <tr>\n",
       "      <th>6</th>\n",
       "      <td>8</td>\n",
       "      <td>0.175376</td>\n",
       "    </tr>\n",
       "    <tr>\n",
       "      <th>7</th>\n",
       "      <td>9</td>\n",
       "      <td>0.189954</td>\n",
       "    </tr>\n",
       "    <tr>\n",
       "      <th>8</th>\n",
       "      <td>10</td>\n",
       "      <td>0.183992</td>\n",
       "    </tr>\n",
       "  </tbody>\n",
       "</table>\n",
       "</div>"
      ],
      "text/plain": [
       "   n_clusters  silhouette_score\n",
       "0           2          0.388750\n",
       "1           3          0.334554\n",
       "2           4          0.257924\n",
       "3           5          0.220455\n",
       "4           6          0.228445\n",
       "5           7          0.199047\n",
       "6           8          0.175376\n",
       "7           9          0.189954\n",
       "8          10          0.183992"
      ]
     },
     "execution_count": 117,
     "metadata": {},
     "output_type": "execute_result"
    }
   ],
   "source": [
    "results"
   ]
  },
  {
   "cell_type": "code",
   "execution_count": 119,
   "metadata": {},
   "outputs": [
    {
     "data": {
      "image/png": "[encoded data removed]",
      "text/plain": [
       "<Figure size 640x480 with 1 Axes>"
      ]
     },
     "metadata": {},
     "output_type": "display_data"
    }
   ],
   "source": [
    "sea.pointplot(x = results['n_clusters'], y=results['silhouette_score'])\n",
    "plt.show()"
   ]
  },
  {
   "cell_type": "code",
   "execution_count": 131,
   "metadata": {},
   "outputs": [],
   "source": [
    "predicted = np.full(shape=data.shape[0], fill_value=-1)\n",
    "\n",
    "kmeans = KMeans(n_clusters=2)\n",
    "kmeans.fit(xpca)\n",
    "labels = kmeans.labels_\n",
    "predicted[~mask] = labels\n",
    "\n",
    "clusters['kmean_label'] = predicted"
   ]
  },
  {
   "cell_type": "markdown",
   "metadata": {},
   "source": [
    "## DBSCAN"
   ]
  },
  {
   "cell_type": "markdown",
   "metadata": {},
   "source": [
    "### Scaling\n",
    "\n",
    "We need to scale the data for DBSCAN, because it uses a distance metric so we need to scale the values to have a better distances.\n",
    "\n",
    "We chose the min-max scaling because the is no need to normalize the values, just we need to keep them in the same aspects."
   ]
  },
  {
   "cell_type": "code",
   "execution_count": 139,
   "metadata": {},
   "outputs": [],
   "source": [
    "scaler = MinMaxScaler()\n",
    "data_scaled = scaler.fit_transform(data)"
   ]
  },
  {
   "cell_type": "markdown",
   "metadata": {},
   "source": [
    "We need to re-make the reduced vectors:"
   ]
  },
  {
   "cell_type": "code",
   "execution_count": 140,
   "metadata": {},
   "outputs": [
    {
     "data": {
      "text/plain": [
       "(101766, 13)"
      ]
     },
     "execution_count": 140,
     "metadata": {},
     "output_type": "execute_result"
    }
   ],
   "source": [
    "pca = PCA(n_components=0.90, svd_solver='full') \n",
    "\n",
    "xpca = pca.fit_transform(data_scaled)\n",
    "xpca.shape"
   ]
  },
  {
   "cell_type": "markdown",
   "metadata": {},
   "source": [
    "As you noticed, it is harder to keep the variance of scaled values, so it uses more features. we do not handle the outlires due to DBSCAN can detect outliers itself."
   ]
  },
  {
   "cell_type": "code",
   "execution_count": 147,
   "metadata": {},
   "outputs": [],
   "source": [
    "results_db = pd.DataFrame(columns=['eps', 'min_samples', 'silhouette_score'])\n",
    "\n",
    "epsilons = [0.4, 0.8]\n",
    "min_samples = [50, 100, 150]\n",
    "for eps in epsilons:\n",
    "\tfor min_sample in min_samples:\n",
    "\t\tdb = DBSCAN(eps = eps, min_samples = min_sample).fit(xpca)\n",
    "\t\tlabels = db.labels_\n",
    "\t\tscore = silhouette_score(xpca, labels)\n",
    "\t\tresults_db.loc[len(results_db)] = {'eps': eps, 'min_samples': min_sample, 'silhouette_score': score}\n"
   ]
  },
  {
   "cell_type": "code",
   "execution_count": 148,
   "metadata": {},
   "outputs": [
    {
     "data": {
      "text/html": [
       "<div>\n",
       "<style scoped>\n",
       "    .dataframe tbody tr th:only-of-type {\n",
       "        vertical-align: middle;\n",
       "    }\n",
       "\n",
       "    .dataframe tbody tr th {\n",
       "        vertical-align: top;\n",
       "    }\n",
       "\n",
       "    .dataframe thead th {\n",
       "        text-align: right;\n",
       "    }\n",
       "</style>\n",
       "<table border=\"1\" class=\"dataframe\">\n",
       "  <thead>\n",
       "    <tr style=\"text-align: right;\">\n",
       "      <th></th>\n",
       "      <th>eps</th>\n",
       "      <th>min_samples</th>\n",
       "      <th>silhouette_score</th>\n",
       "    </tr>\n",
       "  </thead>\n",
       "  <tbody>\n",
       "    <tr>\n",
       "      <th>0</th>\n",
       "      <td>0.4</td>\n",
       "      <td>50</td>\n",
       "      <td>-0.216420</td>\n",
       "    </tr>\n",
       "    <tr>\n",
       "      <th>1</th>\n",
       "      <td>0.4</td>\n",
       "      <td>100</td>\n",
       "      <td>-0.316341</td>\n",
       "    </tr>\n",
       "    <tr>\n",
       "      <th>2</th>\n",
       "      <td>0.4</td>\n",
       "      <td>150</td>\n",
       "      <td>-0.304524</td>\n",
       "    </tr>\n",
       "    <tr>\n",
       "      <th>3</th>\n",
       "      <td>0.8</td>\n",
       "      <td>50</td>\n",
       "      <td>0.208266</td>\n",
       "    </tr>\n",
       "    <tr>\n",
       "      <th>4</th>\n",
       "      <td>0.8</td>\n",
       "      <td>100</td>\n",
       "      <td>0.208248</td>\n",
       "    </tr>\n",
       "    <tr>\n",
       "      <th>5</th>\n",
       "      <td>0.8</td>\n",
       "      <td>150</td>\n",
       "      <td>0.208421</td>\n",
       "    </tr>\n",
       "  </tbody>\n",
       "</table>\n",
       "</div>"
      ],
      "text/plain": [
       "   eps  min_samples  silhouette_score\n",
       "0  0.4           50         -0.216420\n",
       "1  0.4          100         -0.316341\n",
       "2  0.4          150         -0.304524\n",
       "3  0.8           50          0.208266\n",
       "4  0.8          100          0.208248\n",
       "5  0.8          150          0.208421"
      ]
     },
     "execution_count": 148,
     "metadata": {},
     "output_type": "execute_result"
    }
   ],
   "source": [
    "results_db"
   ]
  },
  {
   "cell_type": "code",
   "execution_count": 150,
   "metadata": {},
   "outputs": [
    {
     "data": {
      "image/png": "[encoded data removed]",
      "text/plain": [
       "<Figure size 640x480 with 1 Axes>"
      ]
     },
     "metadata": {},
     "output_type": "display_data"
    }
   ],
   "source": [
    "for eps in epsilons:\n",
    "\tsea.pointplot(\n",
    "\t\tx=results_db[results_db['eps'] == eps]['min_samples'], \n",
    "\t\ty=results_db[results_db['eps'] == eps]['silhouette_score'],\n",
    "\t\tlabel=f'eps: {eps}' \n",
    "\t)\n",
    "plt.legend()\n",
    "plt.show()"
   ]
  },
  {
   "cell_type": "code",
   "execution_count": 153,
   "metadata": {},
   "outputs": [],
   "source": [
    "db = DBSCAN(eps = 0.8, min_samples = 150).fit(xpca)\n",
    "labels = db.labels_\n",
    "\n",
    "clusters['dbscan_label'] = labels"
   ]
  },
  {
   "cell_type": "markdown",
   "metadata": {},
   "source": [
    "## Save Clusters"
   ]
  },
  {
   "cell_type": "code",
   "execution_count": 154,
   "metadata": {},
   "outputs": [],
   "source": [
    "clusters.to_csv('./clusters.csv')"
   ]
  },
  {
   "cell_type": "markdown",
   "metadata": {},
   "source": [
    "# Questions\n"
   ]
  },
  {
   "cell_type": "markdown",
   "metadata": {},
   "source": [
    "\n",
    "**1. What preprocessing steps did you perform on the dataset? Provide clear reasons for each decision made.**\n",
    "\n",
    "- `Duplicates`: droped them.\n",
    "\n",
    "- `NULL`: if there were many null values in a feature, we dropped them but if there was a few of them, we impute with two methods, KNN(k-nearest neighbours) and distribution-driven method which impute according to distribution of values.\n",
    "\n",
    "- `Feature Specific Processing`: it is explained through the report.\n",
    "\n",
    "**2. What portion of the dataset did you retain during dimensionality reduction, and which variables were retained? Could you elaborate on the rationale behind this decision?**\n",
    "\n",
    "there was about 40 features which reduced to 5.\n",
    "\n",
    "**3. Include a plot illustrating the silhouette coefficient plotted against the input parameters for each clustering method within the report file.**\n",
    "\n",
    "in the report.\n",
    "\n",
    "**4. How can we determine the optimal number of clusters in K-Means?**\n",
    "\n",
    "`Elbow Method`:\n",
    "\n",
    "- The Elbow Method helps find the “elbow point” in a plot of the within-cluster sum of squares (WCSS) against the number of clusters (k).\n",
    "- WCSS measures the total distance between data points and their cluster centroids.\n",
    "As the number of clusters increases, WCSS tends to decrease. However, beyond a certain point, the reduction becomes marginal.\n",
    "- The “elbow point” represents the optimal k where adding more clusters doesn’t significantly reduce WCSS.\n",
    "\n",
    "\n",
    "`Silhouette Score`:\n",
    "\n",
    "- The Silhouette Score assesses how well each data point fits into its assigned cluster.\n",
    "- It ranges from -1 to 1:\n",
    "\t- A high positive value indicates that the point is well-clustered.\n",
    "\t- A value near 0 suggests overlapping clusters.\n",
    "\t- A negative value means the point might be assigned to the wrong cluster.\n",
    "- Calculate the Silhouette Score for different values of k and choose the one with the highest score.\n",
    "\n",
    "**5. How can we determine the optimal epsilon value and minPts in DBSCAN?**\n",
    "\n",
    "\n",
    "`Epsilon (ε)`:\n",
    "- Epsilon defines the radius around each data point within which we search for neighboring points.\n",
    "- Too small ε may result in many noise points (outliers) being considered as clusters.\n",
    "- Too large ε may merge distinct clusters into a single cluster.\n",
    "- Methods to find ε:\n",
    "\t- Knee Method: Plot the k-distance graph (distance to the kth nearest neighbor) and look for the “knee” point where the curve changes significantly.\n",
    "\t- Visual Inspection: Visualize the data and choose ε based on the density of points.\n",
    "\t- Domain Knowledge: Consider the problem domain and choose ε accordingly.\n",
    "\n",
    "`MinPts`:\n",
    "- MinPts specifies the minimum number of points required to form a dense region (core point).\n",
    "- Core points have at least MinPts neighbors within ε.\n",
    "- Methods to find MinPts:\n",
    "\t- Domain Knowledge: Understand the data and choose MinPts based on the expected density of clusters.\n",
    "\t- Heuristic: A common heuristic is to set MinPts as the dimensionality of the data plus 1 (MinPts = d + 1, where d is the number of features).\n",
    "\t- Silhouette Score: Experiment with different MinPts values and choose the one that maximizes the Silhouette Score.\n",
    "\n",
    "\n",
    "**6. When would you recommend using K-Means, and when would you suggest using DBSCAN instead?**\n",
    "\n",
    "`K-Means`:\n",
    "- Use Case:\n",
    "\t+ K-Means is appropriate when you have a clear expectation of the number of clusters (k) in your data.\n",
    "\t+ It assumes that clusters are spherical, equally sized, and have similar densities.\n",
    "- Advantages:\n",
    "\t+ Simple and easy to implement.\n",
    "\t+ Works well when clusters are well-separated.\n",
    "\t+ Efficient for large datasets.\n",
    "- Limitations:\n",
    "\t+ Sensitive to initial centroids (random initialization).\n",
    "\t+ Struggles with non-spherical or overlapping clusters.\n",
    "\t+ Requires scaling features to have equal influence.\n",
    "\n",
    "\n",
    "`DBSCAN`:\n",
    "- Use Case:\n",
    "\t- The number of clusters is unknown or varies.\n",
    "\t+ Clusters have varying shapes and densities.\n",
    "\t+ Noise (outliers) detection is essential.\n",
    "\t+ It forms clusters based on density rather than assuming a fixed number of clusters.\n",
    "- Advantages:\n",
    "\t+ Automatically detects the number of clusters.\n",
    "\t+ Robust to noise and outliers.\n",
    "\t+ Handles irregularly shaped clusters.\n",
    "- Limitations:\n",
    "\t+ Sensitive to the choice of parameters (ε and MinPts).\n",
    "\t+ May struggle with clusters of varying densities.\n",
    "\t+ Not suitable for high-dimensional data."
   ]
  }
 ],
 "metadata": {
  "kernelspec": {
   "display_name": "Python 3",
   "language": "python",
   "name": "python3"
  },
  "language_info": {
   "codemirror_mode": {
    "name": "ipython",
    "version": 3
   },
   "file_extension": ".py",
   "mimetype": "text/x-python",
   "name": "python",
   "nbconvert_exporter": "python",
   "pygments_lexer": "ipython3",
   "version": "3.10.5"
  }
 },
 "nbformat": 4,
 "nbformat_minor": 2
}
