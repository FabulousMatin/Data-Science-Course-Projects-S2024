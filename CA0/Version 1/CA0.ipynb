{
 "cells": [
  {
   "cell_type": "markdown",
   "metadata": {},
   "source": [
    "# Data Science - CA0"
   ]
  },
  {
   "cell_type": "markdown",
   "metadata": {},
   "source": [
    "## 1. Data Collection (Etherscan)"
   ]
  },
  {
   "cell_type": "code",
   "execution_count": 123,
   "metadata": {},
   "outputs": [],
   "source": [
    "from selenium import webdriver\n",
    "from selenium.webdriver.common.by import By\n",
    "from bs4 import BeautifulSoup\n",
    "import pandas as pd"
   ]
  },
  {
   "cell_type": "markdown",
   "metadata": {},
   "source": [
    "### 1.1 load driver"
   ]
  },
  {
   "cell_type": "code",
   "execution_count": null,
   "metadata": {},
   "outputs": [],
   "source": [
    "driver = webdriver.Chrome()"
   ]
  },
  {
   "cell_type": "code",
   "execution_count": null,
   "metadata": {},
   "outputs": [],
   "source": [
    "url = 'https://etherscan.io/txs'\n",
    "driver.get(url)"
   ]
  },
  {
   "cell_type": "markdown",
   "metadata": {},
   "source": [
    "The reason of choosing 20 blocks, is to try have full chain of a block(and it is because of etherscan paging is not completely in order of block)"
   ]
  },
  {
   "cell_type": "code",
   "execution_count": null,
   "metadata": {},
   "outputs": [],
   "source": [
    "nBlocks = 20"
   ]
  },
  {
   "cell_type": "markdown",
   "metadata": {},
   "source": [
    "We read all informations of the table, it takes more time so we spent more time in a page, and that slows down request, so we do not need to add any stop in extracting data."
   ]
  },
  {
   "cell_type": "markdown",
   "metadata": {},
   "source": [
    "### 1.2 extract datas"
   ]
  },
  {
   "cell_type": "code",
   "execution_count": null,
   "metadata": {},
   "outputs": [],
   "source": [
    "blocks = set()\n",
    "data = []\n",
    "loop = True\n",
    "while(loop):\n",
    "    transaction_elements = driver.find_elements(By.CSS_SELECTOR, 'table.table tbody tr')\n",
    "    for transaction_element in transaction_elements:\n",
    "        hash = transaction_element.find_element(By.CSS_SELECTOR, 'td:nth-child(2)').text\n",
    "        method = transaction_element.find_element(By.CSS_SELECTOR, 'td:nth-child(3)').text\n",
    "        block = transaction_element.find_element(By.CSS_SELECTOR, 'td:nth-child(4)').text\n",
    "        age = transaction_element.find_element(By.CSS_SELECTOR, 'td:nth-child(6)').text\n",
    "        from_ = transaction_element.find_element(By.CSS_SELECTOR, 'td:nth-child(8)').text\n",
    "        to = transaction_element.find_element(By.CSS_SELECTOR, 'td:nth-child(10)').text\n",
    "        value = transaction_element.find_element(By.CSS_SELECTOR, 'td:nth-child(11)').text\n",
    "        fee = transaction_element.find_element(By.CSS_SELECTOR, 'td:nth-child(12)').text\n",
    "        \n",
    "        blocks.add(block)\n",
    "        if(len(blocks) > nBlocks):\n",
    "            loop = False\n",
    "            break\n",
    "\n",
    "        data.append([hash, method, block, age, from_, to, value, fee])\n",
    "    \n",
    "    next_page_button = driver.find_element(\n",
    "        By.LINK_TEXT, \n",
    "        \"Next\"\n",
    "    )\n",
    "    \n",
    "    next_page_button.click()"
   ]
  },
  {
   "cell_type": "markdown",
   "metadata": {},
   "source": [
    "### 1.3 save the datas"
   ]
  },
  {
   "cell_type": "markdown",
   "metadata": {},
   "source": [
    "then we save data in a dataframe so we can reuse it later.(saving is commented out to prevemnt loosing our saved data mistakenly!)"
   ]
  },
  {
   "cell_type": "code",
   "execution_count": null,
   "metadata": {},
   "outputs": [],
   "source": [
    "df = pd.DataFrame(data, columns=[\n",
    "    'Hash',\n",
    "    'Method',\n",
    "    'Block',\n",
    "    'Age',\n",
    "    'From',\n",
    "    'To',\n",
    "    'Value',\n",
    "    'Fee' \n",
    "])\n",
    "\n",
    "# df.to_csv(\n",
    "#     'transaction_data.csv',\n",
    "#     index=False, \n",
    "# )"
   ]
  },
  {
   "cell_type": "code",
   "execution_count": null,
   "metadata": {},
   "outputs": [],
   "source": [
    "driver.quit()"
   ]
  },
  {
   "cell_type": "markdown",
   "metadata": {},
   "source": [
    "## 2. Data Analysis"
   ]
  },
  {
   "cell_type": "markdown",
   "metadata": {},
   "source": [
    "### 2.1 Load the Data"
   ]
  },
  {
   "cell_type": "code",
   "execution_count": 2,
   "metadata": {},
   "outputs": [],
   "source": [
    "import pandas as pd\n",
    "import numpy as np\n",
    "import matplotlib.pyplot as plt\n",
    "import seaborn as sb\n",
    "\n",
    "data = pd.read_csv(\"./transaction_data.csv\")"
   ]
  },
  {
   "cell_type": "markdown",
   "metadata": {},
   "source": [
    "### 2.2 remove Duplicates\n",
    "\n",
    "we can validate the transactions are unique according to the fact that `Hash` codes are unique. Also we need to drop `age` because a same data may be extracted in the different times and that may be not counted as duplicate."
   ]
  },
  {
   "cell_type": "code",
   "execution_count": 3,
   "metadata": {},
   "outputs": [
    {
     "name": "stdout",
     "output_type": "stream",
     "text": [
      "original size: 16200\n",
      "after removing duplicates: 2947\n",
      "number of unique hashes: 2947\n"
     ]
    }
   ],
   "source": [
    "data.drop(columns=['Age'], inplace=True)\n",
    "print('original size:', data.shape[0])\n",
    "data.drop_duplicates(ignore_index=True, inplace=True)\n",
    "print('after removing duplicates:', data.shape[0])\n",
    "print('number of unique hashes:', data['Hash'].nunique())"
   ]
  },
  {
   "cell_type": "markdown",
   "metadata": {},
   "source": [
    "THere is no need to hash anymore, so we drop it."
   ]
  },
  {
   "cell_type": "code",
   "execution_count": 4,
   "metadata": {},
   "outputs": [],
   "source": [
    "data.drop(columns=['Hash'], inplace=True)"
   ]
  },
  {
   "cell_type": "markdown",
   "metadata": {},
   "source": [
    "### 2.3 Choose Blocks\n",
    "\n",
    "we should choose `Blocks`, we do not choose first and last blocks. because we do not extract all that chain from the website(due to paging system)."
   ]
  },
  {
   "cell_type": "code",
   "execution_count": 5,
   "metadata": {},
   "outputs": [
    {
     "data": {
      "text/plain": [
       "19389841    243\n",
       "19389840    243\n",
       "19389845    200\n",
       "19389842    189\n",
       "19389850    179\n",
       "19389851    177\n",
       "19389847    170\n",
       "19389835    167\n",
       "19389834    165\n",
       "19389836    157\n",
       "19389849    151\n",
       "19389844    143\n",
       "19389837    141\n",
       "19389843    137\n",
       "19389846    129\n",
       "19389848    124\n",
       "19389839    121\n",
       "19389833     50\n",
       "19389838     45\n",
       "19389852     16\n",
       "Name: Block, dtype: int64"
      ]
     },
     "execution_count": 5,
     "metadata": {},
     "output_type": "execute_result"
    }
   ],
   "source": [
    "data['Block'].value_counts()"
   ]
  },
  {
   "cell_type": "code",
   "execution_count": 6,
   "metadata": {},
   "outputs": [],
   "source": [
    "data = data[(data['Block'] >= 19389840) & (data['Block'] <= 19389849)]"
   ]
  },
  {
   "cell_type": "code",
   "execution_count": 7,
   "metadata": {},
   "outputs": [
    {
     "data": {
      "text/plain": [
       "19389840    243\n",
       "19389841    243\n",
       "19389845    200\n",
       "19389842    189\n",
       "19389847    170\n",
       "19389849    151\n",
       "19389844    143\n",
       "19389843    137\n",
       "19389846    129\n",
       "19389848    124\n",
       "Name: Block, dtype: int64"
      ]
     },
     "execution_count": 7,
     "metadata": {},
     "output_type": "execute_result"
    }
   ],
   "source": [
    "data['Block'].value_counts()"
   ]
  },
  {
   "cell_type": "markdown",
   "metadata": {},
   "source": [
    "As you can see we have a better distribution for transactions in blocks"
   ]
  },
  {
   "cell_type": "code",
   "execution_count": 8,
   "metadata": {},
   "outputs": [
    {
     "data": {
      "image/png": "[encoded data removed]",
      "text/plain": [
       "<Figure size 640x480 with 1 Axes>"
      ]
     },
     "metadata": {},
     "output_type": "display_data"
    }
   ],
   "source": [
    "plt.hist(\n",
    "    x = (data['Block'] - data['Block'].min()),\n",
    "    bins = range(0, 20),\n",
    "    alpha = 0.5,\n",
    "    ec='black'\n",
    ")\n",
    "plt.xticks(range(0, 20))\n",
    "plt.show()"
   ]
  },
  {
   "cell_type": "markdown",
   "metadata": {},
   "source": [
    "### 2.4 Fix the data types \n",
    "\n",
    "the `Value` property has object type and we need to convert it to number. there are two unit type of etherium:\n",
    "\n",
    "- ETH: etherium\n",
    "- wei: The smallest unit of ETH is called a wei, which is equivalent to $10^{-18}$ ETH"
   ]
  },
  {
   "cell_type": "code",
   "execution_count": 9,
   "metadata": {},
   "outputs": [],
   "source": [
    "def ethToFloat(x):\n",
    "    if(x.endswith('ETH')):\n",
    "        return float(x.replace(',', '').split()[0])\n",
    "    elif(x.endswith('wei')):\n",
    "        return float(x.replace(',', '').split()[0]) * 1e-18\n",
    "\n",
    "data['Value'] = data['Value'].apply(ethToFloat)"
   ]
  },
  {
   "cell_type": "code",
   "execution_count": 10,
   "metadata": {},
   "outputs": [
    {
     "name": "stdout",
     "output_type": "stream",
     "text": [
      "<class 'pandas.core.frame.DataFrame'>\n",
      "Int64Index: 1729 entries, 789 to 2584\n",
      "Data columns (total 6 columns):\n",
      " #   Column  Non-Null Count  Dtype  \n",
      "---  ------  --------------  -----  \n",
      " 0   Method  1729 non-null   object \n",
      " 1   Block   1729 non-null   int64  \n",
      " 2   From    1729 non-null   object \n",
      " 3   To      1729 non-null   object \n",
      " 4   Value   1729 non-null   float64\n",
      " 5   Fee     1729 non-null   float64\n",
      "dtypes: float64(2), int64(1), object(3)\n",
      "memory usage: 94.6+ KB\n"
     ]
    }
   ],
   "source": [
    "data.info()"
   ]
  },
  {
   "cell_type": "markdown",
   "metadata": {},
   "source": [
    "### 2.5 Statistical Analysis"
   ]
  },
  {
   "cell_type": "code",
   "execution_count": 11,
   "metadata": {},
   "outputs": [],
   "source": [
    "import astropy.visualization as astplt\n",
    "import scipy.stats as stats\n",
    "import plotly.express as px\n",
    "import pylab "
   ]
  },
  {
   "cell_type": "markdown",
   "metadata": {},
   "source": [
    "**z-score:**\n",
    "$$ z = \\frac{x - \\mu}{\\sigma} $$\n",
    "\n",
    "- Approximately 68% of the data falls within one standard deviation of the mean (within a z-score range of -1 to 1).\n",
    "\n",
    "- Approximately 95% of the data falls within two standard deviations of the mean (within a z-score range of -2 to 2).\n",
    "\n",
    "- Approximately 99.7% of the data falls within three standard deviations of the mean (within a z-score range of -3 to 3)."
   ]
  },
  {
   "cell_type": "code",
   "execution_count": 12,
   "metadata": {},
   "outputs": [],
   "source": [
    "def zScore(x, distRange):\n",
    "    if(distRange == '65%'):\n",
    "        r = 1\n",
    "    elif(distRange == '95%'):\n",
    "        r = 2\n",
    "    elif(distRange == '99%'):\n",
    "        r = 3\n",
    "    else:\n",
    "        raise ValueError\n",
    "    return [x.mean() - r * x.std(), x.mean() + r * x.std()]"
   ]
  },
  {
   "cell_type": "code",
   "execution_count": 13,
   "metadata": {},
   "outputs": [
    {
     "data": {
      "text/html": [
       "<div>\n",
       "<style scoped>\n",
       "    .dataframe tbody tr th:only-of-type {\n",
       "        vertical-align: middle;\n",
       "    }\n",
       "\n",
       "    .dataframe tbody tr th {\n",
       "        vertical-align: top;\n",
       "    }\n",
       "\n",
       "    .dataframe thead th {\n",
       "        text-align: right;\n",
       "    }\n",
       "</style>\n",
       "<table border=\"1\" class=\"dataframe\">\n",
       "  <thead>\n",
       "    <tr style=\"text-align: right;\">\n",
       "      <th></th>\n",
       "      <th>Block</th>\n",
       "      <th>Value</th>\n",
       "      <th>Fee</th>\n",
       "    </tr>\n",
       "  </thead>\n",
       "  <tbody>\n",
       "    <tr>\n",
       "      <th>count</th>\n",
       "      <td>1.729000e+03</td>\n",
       "      <td>1729.000000</td>\n",
       "      <td>1729.000000</td>\n",
       "    </tr>\n",
       "    <tr>\n",
       "      <th>mean</th>\n",
       "      <td>1.938984e+07</td>\n",
       "      <td>1.316346</td>\n",
       "      <td>0.004758</td>\n",
       "    </tr>\n",
       "    <tr>\n",
       "      <th>std</th>\n",
       "      <td>2.943625e+00</td>\n",
       "      <td>13.722905</td>\n",
       "      <td>0.007261</td>\n",
       "    </tr>\n",
       "    <tr>\n",
       "      <th>min</th>\n",
       "      <td>1.938984e+07</td>\n",
       "      <td>0.000000</td>\n",
       "      <td>0.000872</td>\n",
       "    </tr>\n",
       "    <tr>\n",
       "      <th>25%</th>\n",
       "      <td>1.938984e+07</td>\n",
       "      <td>0.000000</td>\n",
       "      <td>0.001117</td>\n",
       "    </tr>\n",
       "    <tr>\n",
       "      <th>50%</th>\n",
       "      <td>1.938984e+07</td>\n",
       "      <td>0.000010</td>\n",
       "      <td>0.002503</td>\n",
       "    </tr>\n",
       "    <tr>\n",
       "      <th>75%</th>\n",
       "      <td>1.938985e+07</td>\n",
       "      <td>0.100000</td>\n",
       "      <td>0.006883</td>\n",
       "    </tr>\n",
       "    <tr>\n",
       "      <th>max</th>\n",
       "      <td>1.938985e+07</td>\n",
       "      <td>400.057621</td>\n",
       "      <td>0.098077</td>\n",
       "    </tr>\n",
       "  </tbody>\n",
       "</table>\n",
       "</div>"
      ],
      "text/plain": [
       "              Block        Value          Fee\n",
       "count  1.729000e+03  1729.000000  1729.000000\n",
       "mean   1.938984e+07     1.316346     0.004758\n",
       "std    2.943625e+00    13.722905     0.007261\n",
       "min    1.938984e+07     0.000000     0.000872\n",
       "25%    1.938984e+07     0.000000     0.001117\n",
       "50%    1.938984e+07     0.000010     0.002503\n",
       "75%    1.938985e+07     0.100000     0.006883\n",
       "max    1.938985e+07   400.057621     0.098077"
      ]
     },
     "metadata": {},
     "output_type": "display_data"
    },
    {
     "name": "stdout",
     "output_type": "stream",
     "text": [
      "Fee :\n",
      "mean: 0.00475841979757085 \n",
      "std:  0.00726101531237787 \n",
      "median 0.00250314 \n",
      "[min, max]:  [0.00087192, 0.09807661] \n",
      "95%:  [-0.009763610827184889, 0.01928045042232659]\n",
      "\n",
      "Value :\n",
      "mean: 1.3163461401769811 \n",
      "std:  13.722904718422566 \n",
      "median 1e-05 \n",
      "[min, max]:  [0.0, 400.057621311] \n",
      "95%:  [-26.12946329666815, 28.762155577022114]\n",
      "\n"
     ]
    }
   ],
   "source": [
    "# def get_info(data, var, )\n",
    "display(data.describe())\n",
    "variables = ['Fee', 'Value']\n",
    "for var in variables:\n",
    "    mean = data[var].mean()\n",
    "    std = data[var].std()\n",
    "    median = data[var].median()\n",
    "    print(\n",
    "        var, ':' '\\n'\n",
    "        'mean:', mean, '\\n'\n",
    "        'std: ', std, '\\n'\n",
    "        'median', median, '\\n'\n",
    "        '[min, max]: ', f'[{data[var].min()}, {data[var].max()}]', '\\n'\n",
    "        '95%: ', f'[{zScore(data[var], \"95%\")[0]}, {zScore(data[var], \"95%\")[1]}]''\\n'\n",
    "    )"
   ]
  },
  {
   "cell_type": "markdown",
   "metadata": {},
   "source": [
    "**Choosing bins:**\n",
    "\n",
    "there are several methods to choose `bins`, we imported `astropy` to help us choosing them properly.\n",
    "\n",
    "consider that:  $\\text{Number of bins} = \\frac{\\text{Data range}}{\\text{Bin width}}$\n",
    "\n",
    "\n",
    "1. `Square Root Choice`:\n",
    " \n",
    "$$\\text{Number of bins} = \\sqrt{N}$$\n",
    "\n",
    "2. `Sturges' Formula`:\n",
    "\n",
    "$$\\text{Number of bins} = 1 + \\log_2(N)$$\n",
    "\n",
    "3. `Freedman-Diaconis Rule`:\n",
    "\n",
    "$$\\text{Bin width} = \\frac{2 \\times(Q_{3} - Q_{1})}{\\sqrt[3]{N}}$$\n",
    "\n",
    "- $Q1$ is the first quantile\n",
    "- $Q3$ is the third qurntile\n",
    "\n",
    "4. `Scott Formula`:\n",
    "\n",
    "$$ \\text{Bin Width} = \\frac{3.5 \\times \\sigma}{\\sqrt[3]{N}}$$"
   ]
  },
  {
   "cell_type": "markdown",
   "metadata": {},
   "source": [
    "### 2.6 Fee Analysis\n",
    "\n",
    "we can see `fee` has a better distribution to analyze, it ois because there are some rules which will be applied in transaction taxes."
   ]
  },
  {
   "cell_type": "markdown",
   "metadata": {},
   "source": [
    "#### 2.6.1 Boxplot and Violinplot"
   ]
  },
  {
   "cell_type": "code",
   "execution_count": 14,
   "metadata": {},
   "outputs": [
    {
     "data": {
      "image/png": "[encoded data removed]",
      "text/plain": [
       "<Figure size 1500x1000 with 2 Axes>"
      ]
     },
     "metadata": {},
     "output_type": "display_data"
    }
   ],
   "source": [
    "figure, axis = plt.subplots(2, 1, figsize=(15, 10))\n",
    "sb.boxplot(\n",
    "    x = data['Fee'],\n",
    "    ax = axis[0]\n",
    ")\n",
    "sb.violinplot(\n",
    "    x = data['Fee'],\n",
    "    ax = axis[1]\n",
    ")\n",
    "plt.show()"
   ]
  },
  {
   "cell_type": "markdown",
   "metadata": {},
   "source": [
    "#### 2.6.2 histogram"
   ]
  },
  {
   "cell_type": "code",
   "execution_count": 15,
   "metadata": {},
   "outputs": [
    {
     "data": {
      "image/png": "[encoded data removed]",
      "text/plain": [
       "<Figure size 640x480 with 1 Axes>"
      ]
     },
     "metadata": {},
     "output_type": "display_data"
    }
   ],
   "source": [
    "astplt.hist(\n",
    "    data['Fee'],\n",
    "    bins = 'scott',\n",
    "    alpha = 0.5,\n",
    "    ec='black',\n",
    "    density = True\n",
    ")\n",
    "\n",
    "mu = data['Fee'].mean()\n",
    "std = data['Fee'].std()\n",
    "x = np.linspace(mu - 3 * std, mu + 3 * std, 100)\n",
    "plt.plot(x, stats.norm.pdf(x, mu, std))\n",
    "plt.show()"
   ]
  },
  {
   "cell_type": "markdown",
   "metadata": {},
   "source": [
    "#### 2.6.3 QQ Plot\n",
    "\n",
    "The QQ plot is a helpful tool for visually assessing whether a dataset follows a normal distribution or not. If the points deviate from the straight line, it suggests that the dataset may not be normally distributed."
   ]
  },
  {
   "cell_type": "code",
   "execution_count": 16,
   "metadata": {},
   "outputs": [
    {
     "data": {
      "image/png": "[encoded data removed]",
      "text/plain": [
       "<Figure size 640x480 with 1 Axes>"
      ]
     },
     "metadata": {},
     "output_type": "display_data"
    }
   ],
   "source": [
    "stats.probplot(data['Fee'], dist=\"norm\", plot=pylab)\n",
    "pylab.show()"
   ]
  },
  {
   "cell_type": "markdown",
   "metadata": {},
   "source": [
    "### 2.7 Value\n",
    "\n",
    "The `value` differs widely upon dataset and contains a wide range, later we will see effect of `method` in variation on `value`"
   ]
  },
  {
   "cell_type": "code",
   "execution_count": 17,
   "metadata": {},
   "outputs": [
    {
     "data": {
      "image/png": "[encoded data removed]",
      "text/plain": [
       "<Figure size 1500x1000 with 2 Axes>"
      ]
     },
     "metadata": {},
     "output_type": "display_data"
    }
   ],
   "source": [
    "figure, axis = plt.subplots(2, 1, figsize=(15, 10))\n",
    "sb.boxplot(\n",
    "    x = data['Value'],\n",
    "    ax = axis[0]\n",
    ")\n",
    "sb.violinplot(\n",
    "    x = data['Value'],\n",
    "    ax = axis[1]\n",
    ")\n",
    "plt.show()"
   ]
  },
  {
   "cell_type": "code",
   "execution_count": 18,
   "metadata": {},
   "outputs": [
    {
     "data": {
      "image/png": "[encoded data removed]",
      "text/plain": [
       "<Figure size 640x480 with 1 Axes>"
      ]
     },
     "metadata": {},
     "output_type": "display_data"
    }
   ],
   "source": [
    "stats.probplot(data['Value'], dist=\"norm\", plot=pylab)\n",
    "pylab.show()"
   ]
  },
  {
   "cell_type": "code",
   "execution_count": 19,
   "metadata": {},
   "outputs": [
    {
     "data": {
      "application/vnd.plotly.v1+json": {
       "config": {
        "plotlyServerURL": "https://plot.ly"
       },
       "data": [
        {
         "alignmentgroup": "True",
         "hovertemplate": "x=%{x}<extra></extra>",
         "legendgroup": "",
         "marker": {
          "color": "#636efa"
         },
         "name": "",
         "notched": false,
         "offsetgroup": "",
         "orientation": "h",
         "showlegend": false,
         "type": "box",
         "x": [
          8,
          0,
          0.3,
          0,
          0.001457841,
          0,
          0,
          0,
          0,
          0,
          0,
          0,
          0.29,
          0,
          0,
          0,
          0,
          0,
          10,
          32,
          0,
          0,
          0.006,
          0.024,
          0,
          0.0388,
          0,
          0.99,
          0,
          0.04,
          0,
          0,
          0,
          0,
          0,
          0,
          0,
          0,
          0.24,
          1,
          0,
          0,
          0.1169,
          0,
          0.1,
          0.028815202,
          0,
          0.2,
          0.5,
          0.03647397,
          0,
          0,
          0,
          0.11,
          0,
          0,
          0,
          0,
          0,
          0,
          0,
          0,
          0,
          0,
          0,
          0,
          0.000244023,
          0.50611212,
          0,
          0.1,
          0,
          0,
          0.7,
          0.7,
          1.2e-7,
          0,
          0,
          1.21e-7,
          0.127,
          0,
          0,
          0,
          0,
          0,
          0,
          0,
          1.08014,
          0.123750993,
          2.345214907,
          3.05,
          0.0618598,
          0,
          0,
          0,
          0,
          0,
          0,
          0.0004,
          1.2,
          0.133,
          0.020002,
          0,
          0,
          0,
          0,
          10,
          0.074,
          0,
          0,
          0,
          0,
          0,
          0,
          0,
          0,
          0,
          0,
          0,
          0,
          1.313311502,
          0,
          0,
          0,
          0.177892178,
          0,
          4,
          2.571303776,
          0,
          0,
          0.703722534,
          0,
          0.368152305,
          0.072197885,
          0.084928865,
          0.039968865,
          0.052564385,
          0.127434615,
          0.232102765,
          0.37850501,
          0.141174067,
          0.141387195,
          0.119404289,
          0.114297965,
          0.255038565,
          0.059098865,
          0.003630825,
          0.012120361,
          0.004744825,
          0.020144355,
          0.009098865,
          0.639111865,
          0.040039215,
          0.075186924,
          0.037988412,
          0.023498955,
          0.069014565,
          0.062489705,
          0.509367815,
          0.060666373,
          0.113354865,
          0.281711133,
          0.077098865,
          0.027045465,
          0.099810838,
          0.006008865,
          0.021951715,
          0.082395373,
          0.013368865,
          0.152851925,
          0.033477565,
          0.035086371,
          1.52419997,
          0.02968758,
          0.035015528,
          0.01115,
          0.097708,
          0.0851111,
          0.1345616,
          0.55035225,
          0.19615818,
          0.0217745,
          0.01266936,
          0.0011011,
          0.5,
          0.133732997,
          0.047497642,
          0.024,
          0.002084732,
          0.710697184,
          0.0516,
          0.498979281,
          0.001685189,
          0.031,
          0.02515805,
          0.01266476,
          0.07516468,
          0.503653789,
          0.331345,
          0.27720671,
          0.0018,
          0.005098865,
          0.002918865,
          0.100208865,
          0.127795618,
          0.131739825,
          0.026512525,
          0.176018865,
          0.254972365,
          0.099098865,
          0.149374109,
          0.126537065,
          0,
          0,
          0,
          0.06,
          0.1,
          0.01,
          0,
          0.2,
          0.10001,
          0,
          0,
          0,
          0,
          0,
          0.20002,
          0.00338476,
          0,
          0,
          0,
          0,
          0,
          0.011716138,
          0.1995,
          0.012695386,
          0.456975133,
          0.03161204,
          0.01373715,
          0.00627852,
          0.00234919,
          0.00164102,
          0.00186245,
          0.00495549,
          0.146647527,
          0,
          0,
          0.23,
          0.05,
          0,
          0.4,
          0.001,
          0,
          0.273756804,
          0.00254,
          0.073935143,
          0,
          0,
          0.179131325,
          0.03792,
          0,
          0,
          1.75,
          0,
          0,
          0,
          0.45,
          0.0045,
          0.011242284,
          0.0339,
          0.85,
          0.01,
          0,
          1.2689,
          0,
          0.009,
          0,
          0,
          0,
          0.7535,
          0.061,
          0.02,
          0,
          0,
          0,
          0,
          0.035,
          0,
          32,
          0,
          0,
          0.00165,
          0,
          0.255,
          0,
          0,
          1,
          0,
          0.01,
          0.5,
          1,
          0.99,
          0,
          0,
          0,
          0,
          0,
          0,
          0,
          0,
          0,
          1.999036714,
          2.798986118,
          0.008070636,
          0,
          0,
          0.19,
          0.6,
          0,
          0.024714716,
          1e-8,
          0,
          0,
          1.7,
          0,
          0,
          0.759803096,
          0,
          0,
          0,
          0,
          0,
          0,
          0.164819472,
          0.12705543,
          0.02542588,
          0.005,
          38,
          0.151800986,
          0.5,
          0.45,
          0,
          0,
          0,
          0,
          0.060444818,
          0,
          0.4999,
          0.0255,
          0.04,
          0.0056806,
          0,
          0,
          7.786349775,
          0,
          0,
          0,
          0,
          0.01406,
          0,
          0.076323915,
          0,
          0,
          0.5963,
          0.0103859,
          0.33648753,
          0,
          0.0974987,
          0,
          0,
          0.023179,
          0.001947764,
          0.5973,
          0.07773948,
          0.10432968,
          4.708039,
          2.8739567,
          0.0086746,
          0.268607029,
          0,
          0,
          0,
          0,
          32,
          0,
          0,
          0.19,
          0,
          0,
          0,
          0,
          3.51,
          0,
          0,
          0.0025,
          0,
          0,
          0,
          0,
          0.00003,
          0,
          0,
          0,
          0,
          0,
          0,
          0.035,
          0.020338291,
          0.007,
          0.0015,
          0,
          0,
          0.004,
          1.0024,
          0,
          0.12,
          0,
          0,
          0,
          0,
          0.048,
          0,
          0,
          0.2,
          0,
          0.254432209,
          0,
          0,
          0,
          0,
          0.1,
          0,
          0,
          0.0045,
          0.008255,
          0,
          0,
          0.00821408,
          0.1,
          0.32,
          0.08612107,
          0.91,
          0,
          0,
          0.1,
          0.099018727,
          0,
          0,
          0.0844944,
          0.007622474,
          0,
          0,
          0.09,
          0,
          0,
          0.1,
          0,
          1.005189504,
          0.13,
          0.15,
          0.12,
          0.114630215,
          0.063159994,
          0.015,
          0,
          0,
          0.355,
          0,
          0.004,
          5,
          0,
          0,
          0.1,
          0,
          0.25,
          0,
          0,
          0.00371332,
          0,
          0,
          0.081999823,
          0,
          51.058,
          0.001946057,
          0.001228,
          0.01354,
          0,
          0.006155047,
          0,
          0.385690861,
          0.0045,
          0,
          0,
          0,
          0.759875734,
          0,
          0,
          0,
          0.06763,
          0.5,
          0.000996582,
          1.8,
          0.02,
          0.0225,
          10.1325,
          0.014783646,
          0.02473503,
          0.0313,
          0.00254165,
          0.01347588,
          0.011,
          0.023704,
          0.24499,
          0.099447859,
          5.338,
          0.065866588,
          0,
          0.079953971,
          4.613156335,
          0.012368125,
          0,
          0,
          0,
          0,
          0,
          0,
          0,
          0,
          0,
          0,
          0,
          0,
          0,
          0,
          0,
          0,
          0,
          1.25,
          0.003,
          0.3,
          0,
          0,
          0,
          0.095,
          0.08,
          0,
          32,
          0,
          0.296395107,
          0,
          0,
          0,
          0.65971692,
          0.6866552,
          2.1,
          0,
          0,
          0.044,
          0,
          0.015,
          0,
          0,
          0,
          0.015993752,
          0.05281914,
          0,
          0,
          0,
          0,
          1,
          0,
          0.75747353,
          0.0225,
          0.007,
          0,
          0.02393054,
          0.1382,
          0,
          0.02543911,
          0.027268906,
          0.000300854,
          0,
          0,
          0,
          0.00556364,
          0.112078253,
          0,
          0.06527167,
          0.379,
          0.033,
          0.012719555,
          0.324560385,
          0,
          0,
          0,
          0,
          0.75,
          0,
          0,
          0.15,
          0.027081407,
          0,
          0,
          0,
          0,
          0,
          2,
          0.0153,
          0.0255,
          0,
          0.012,
          0.10686073,
          0,
          0.028,
          0,
          0.012,
          0.10165,
          0,
          0.012,
          0,
          0,
          0,
          0,
          0.013,
          0,
          0.047064978,
          0.1,
          0.294,
          0.03,
          0.25,
          0,
          0,
          0,
          0,
          1,
          0,
          0.013,
          0,
          0.018337332,
          0,
          0.6,
          0,
          0,
          0.119689,
          0.025,
          0,
          2,
          0.2,
          0,
          32,
          0,
          0,
          0,
          0.1,
          0,
          0,
          0,
          0,
          0,
          0,
          0.025,
          0.03,
          0,
          0,
          0,
          0,
          35.673297989,
          0.1,
          0.012,
          0.0055,
          0,
          0.004695061,
          0,
          0,
          0,
          0,
          0.001825158,
          32,
          0,
          0,
          0,
          0.002733612,
          0.038292127,
          0,
          0.372631544,
          0.01,
          0.15,
          1,
          0.09999,
          0,
          0.352585795,
          0,
          2.92e-7,
          4,
          1.08e-7,
          1.89,
          1.81e-7,
          0.065433387,
          0,
          0.07842477,
          0,
          2.787845,
          32,
          0,
          0.3,
          0.05945224,
          0.118848202,
          0.10284571,
          0,
          0,
          0.07897008,
          1,
          0.13462495,
          1.01495775,
          0,
          0.7,
          0,
          0.185368979,
          0,
          0,
          0,
          0.03,
          0,
          0,
          0.64294061,
          0,
          3.33694836,
          0.16478257,
          0.03376927,
          0.00936399,
          0,
          0,
          0.01424082,
          0.16669082,
          0,
          0.001336333,
          0.00713705,
          0,
          0,
          0,
          0,
          0.855673895,
          0.039029819,
          0.13456089,
          0.006,
          0.02777,
          0,
          0.13412188,
          0.002,
          0.02420638,
          0.027795,
          0.15322304,
          0.0795,
          0,
          0,
          0.618668427,
          0,
          0,
          0.0083,
          0,
          0,
          1.99,
          0.544896473,
          0,
          0,
          0.03,
          0,
          0,
          0.1525,
          2,
          0.21,
          0,
          0,
          0,
          0,
          0.00001,
          0,
          0.009,
          0.0763,
          0,
          0,
          1.25,
          0.001,
          0.038,
          0.001895,
          0,
          3,
          0,
          0,
          0,
          0,
          0.036,
          0.2,
          0.014405421,
          0.006424,
          0.13,
          0,
          0,
          1,
          0,
          0,
          0,
          4.67e-7,
          3,
          4.67e-7,
          0.1,
          0.1,
          0,
          0.055726449,
          0,
          0,
          0,
          0,
          0,
          0,
          0,
          0,
          5,
          0,
          0.002387981,
          0,
          0.3,
          0,
          0.0047,
          0.764,
          0,
          0,
          0,
          0,
          1,
          0,
          0,
          0,
          2,
          0.5,
          0,
          0,
          0.35,
          0,
          1.330111888,
          0,
          0,
          0,
          0,
          0,
          0,
          0,
          0,
          0.05,
          0,
          0,
          32,
          0,
          0,
          0,
          0,
          0,
          0,
          0,
          0.001293406,
          0,
          0,
          0,
          0,
          0,
          0,
          0,
          0,
          0,
          0,
          0,
          0,
          0,
          0,
          0,
          0,
          0,
          0,
          0,
          0,
          0,
          0,
          0.02479,
          0,
          0,
          0,
          0,
          0,
          0,
          0,
          0,
          0.20002,
          0,
          0,
          0,
          0.00828,
          0.03,
          0.275,
          0.01,
          0.2,
          0.52205645,
          0.0726236,
          4.500112786,
          0.13262781,
          0.025382643,
          0.013602,
          0.27697072,
          0.219056394,
          0.02,
          0.05,
          0.0512,
          0.281595,
          1.108572547,
          0.00900845,
          1.370461092,
          0.066922446,
          0.109164472,
          0.036896052,
          0.31,
          0.095898782,
          3.0004,
          0.071,
          4.2,
          0.001,
          0.146442595,
          0.072444959,
          0,
          0,
          0,
          0,
          0,
          0.050836795,
          0,
          2,
          0,
          0.007724355,
          0,
          0,
          0,
          0.000481278,
          0,
          0.00083151,
          3,
          0.267523941,
          1,
          2,
          4,
          0,
          3.0000000000000002e-18,
          1.01e-7,
          0,
          1.04e-7,
          0.25,
          0.048345435,
          0,
          0.009091832,
          12.502619315,
          0,
          0,
          0,
          0,
          0,
          0,
          0,
          1.11379,
          2.5379245,
          0,
          38.1035401,
          0.08657239,
          0,
          0.1808153,
          0,
          0,
          0,
          0.037,
          0,
          0,
          0,
          0,
          0,
          0.007,
          0,
          0,
          0.46861,
          0.05267,
          0.02,
          0.35,
          0.222731352,
          0.463194263,
          0.943765402,
          1.274401673,
          8.817155402,
          0.698765402,
          0,
          32,
          32,
          0.63346775,
          0,
          0,
          0,
          0.107197464,
          0,
          0,
          0.266804207,
          0,
          0.041836974,
          0,
          0.238,
          0,
          0,
          0.2162,
          0,
          0,
          0,
          0,
          0,
          0.519734846,
          0,
          0,
          0,
          0,
          0,
          0.011118392,
          0.015249905,
          0.5,
          0.14868746,
          0.003148934,
          0,
          6.8,
          0.0047,
          0,
          0,
          0,
          0,
          0,
          0,
          0,
          0,
          0,
          0,
          0,
          0,
          0.3861,
          0.0141769,
          0,
          0,
          0,
          0,
          0,
          0,
          0,
          0,
          0,
          0,
          0,
          0,
          0,
          0.03079668,
          0,
          2.068491288,
          0,
          0,
          0,
          0,
          0,
          0,
          0.2,
          0,
          32,
          0,
          0.023,
          0.05407715,
          0.0096195,
          0,
          0.026,
          0,
          2,
          0.015,
          0.24,
          0.9,
          0.896535765,
          0.08,
          0,
          0,
          0.25,
          0.025,
          0,
          0.204746813,
          0,
          0,
          0.079,
          0.03,
          0.5,
          0,
          0,
          0,
          0,
          0,
          0,
          0,
          0.3,
          0,
          0,
          0.218878,
          1.148878,
          0.00227526,
          0.00564,
          0,
          0,
          0,
          0,
          0.098483335,
          0.0255,
          0.0037371,
          0.00900425,
          0.00025393,
          0.003547768,
          0.004016788,
          0.002671821,
          0.003548689,
          0.003547768,
          0.02513657,
          0.10851966,
          0.03222427,
          0.02688805,
          0,
          0.284696416,
          0,
          0,
          0.128856,
          0,
          0,
          0,
          0,
          0,
          0,
          0.01344683,
          0.19,
          0,
          0,
          0,
          0,
          0.06,
          0.5,
          3.7,
          0,
          0,
          0,
          2,
          0.1,
          0,
          0,
          0,
          0.2,
          0,
          0.2,
          0,
          0.082207812,
          1.0138655,
          0.017807377,
          4.1,
          0.03,
          0,
          0,
          0,
          0.27916891,
          1,
          0.01038713,
          157.018954059,
          0.5,
          0.0001,
          0.0033,
          0.005891596,
          0.15,
          0,
          0,
          0,
          0,
          0,
          0,
          0,
          0,
          0,
          0,
          0,
          0.060682502,
          0.036682502,
          0.05,
          32,
          0,
          0,
          0,
          0,
          0,
          0.6,
          0,
          0,
          0,
          0,
          0,
          2,
          0,
          0,
          0,
          0.012,
          0,
          0,
          0.0699,
          0.015,
          0,
          0,
          0,
          0.005,
          0,
          0,
          0,
          0,
          0.141851181,
          0.19490432,
          18.067551336,
          0.337267801,
          4.198724426,
          0.002867129,
          2,
          3.5e-8,
          0,
          3.9e-8,
          0,
          0.056436896,
          0,
          0.574432005,
          0.3,
          0.27606271,
          0.240024,
          0,
          0.011587218,
          0.15438388,
          0,
          0.0500016,
          0.12283,
          0.011642625,
          0,
          0.0065,
          0.330708441,
          0.405248798,
          0.38,
          2.88,
          0.013848394,
          0.424659395,
          0.024185801,
          0,
          0,
          0,
          0.01774262,
          0,
          0,
          0,
          0.0504,
          0,
          0,
          0,
          0,
          0.3,
          5,
          0.2,
          0.69591779,
          12,
          5.752586115,
          0.003255848,
          0.06,
          0.004427414,
          0.17994,
          0.00747581,
          0.31320335,
          0.42592123,
          2.95021273,
          0.007,
          0.002776,
          0.381247631,
          0.0073466,
          0.003349,
          2,
          0,
          0,
          0,
          2,
          0.1016,
          0,
          0.241,
          0,
          400.057621311,
          0,
          0.323512059,
          0.303318616,
          0.0063,
          0.0374,
          0.1563,
          0.2963,
          1.421492111,
          0.0216746,
          0.989486807,
          0,
          0.112299387,
          0.0963,
          0,
          0.03821456,
          0,
          0.01322398,
          2.592535388,
          5.998997162,
          0,
          4.9677503,
          0.095,
          0.27358228,
          0.0156,
          0.330201,
          0.398856,
          0.0235,
          0.0236,
          32,
          0.231124182,
          0.0829954,
          2.52972,
          0,
          0.00361014,
          0.055,
          0.014,
          0.025,
          0,
          0.26242,
          0,
          0.3629646,
          0.053712706,
          0,
          0.096926614,
          0.2,
          2,
          0,
          0.016622131,
          0.011784891,
          0.09060237,
          0,
          1.7,
          0,
          0,
          0,
          0,
          0,
          0.509023725,
          0.1,
          0.02575,
          0.014423445,
          0.001118632,
          0.00199789,
          0,
          0,
          0,
          0.008928,
          0.054053,
          0,
          0.008912894,
          0,
          0.01,
          0.17151958,
          0,
          13,
          0.00082922,
          0,
          0,
          0,
          0,
          3,
          0.000328421,
          0,
          0.445013498,
          0,
          0,
          0.898946001,
          1.337703678,
          0,
          0.1,
          0,
          0,
          0,
          1.53153,
          6.2,
          0,
          0.024383757,
          0,
          3.824983611,
          0.248940951,
          0.376558152,
          0,
          0.82905102,
          0.151343426,
          0,
          0.1,
          0,
          0.002132083,
          0.8,
          0.5,
          0.012166458,
          0,
          5,
          0,
          3.1e-8,
          2.466087757,
          2.9e-8,
          0.123494261,
          0,
          0.049,
          0.005,
          1.4,
          5,
          0.02544918,
          0,
          0.001607962,
          0.06,
          0,
          0,
          0,
          0,
          0,
          0.001227456,
          0,
          0.049091846,
          0,
          0,
          0,
          0,
          0,
          0,
          0.005,
          0.02,
          0.070975383,
          0,
          0,
          0,
          0,
          0.050005,
          0,
          0,
          0,
          0,
          0.1,
          0,
          0.53,
          0,
          0.04128746,
          0.03444,
          0,
          0.036666737,
          0.031897798,
          0,
          0,
          0,
          0,
          0,
          0,
          0.1,
          0.586279391,
          0.044378775,
          0.045,
          0,
          0,
          0,
          0,
          0,
          0.004802911,
          0.0016,
          0.128894337,
          0.168235337,
          0.12468869,
          0.168373642,
          0.115265085,
          0.301556926,
          1.8077692,
          0,
          1.800736846,
          0,
          0,
          0,
          0.006151485,
          0.533,
          0,
          0,
          0.2,
          0.1,
          0,
          0,
          2.53,
          0,
          0,
          0,
          0.2,
          0,
          0.509030163,
          5,
          2.5,
          0,
          0.072807206,
          0,
          0.4,
          0.2,
          0,
          0,
          0,
          0.04,
          0.88,
          0.673313413,
          6.01,
          0.162355442,
          0,
          0,
          0,
          0,
          0.002187943,
          0.234,
          0,
          0.0092,
          0,
          0,
          0.005346813,
          0,
          0,
          0,
          2,
          0,
          0.095675499,
          1,
          0,
          0,
          0,
          0,
          0.12,
          0,
          0.322902135,
          0.26,
          0,
          0,
          2.29757954,
          0,
          0,
          160,
          0,
          0.98478,
          0.019216,
          0.03062134,
          299.511445724,
          50.488772381,
          3.139320709,
          0,
          0.01,
          0,
          0,
          0.021006894,
          0.011649164,
          0.01264146,
          0,
          0,
          0,
          0,
          0,
          0,
          0.99386671,
          0.021179104,
          0.014184644,
          0,
          0.00766962,
          0.15997208,
          0,
          0,
          0,
          0.00681435,
          0,
          32,
          0,
          32,
          1.267224712,
          0,
          0,
          0.1,
          0.2,
          0.7,
          0.00617375,
          0,
          0,
          0,
          0.556,
          0.0477,
          0,
          0.95,
          0,
          0,
          0.23840569,
          0.08758575,
          0.0510626,
          0.2,
          0,
          0.035910628,
          0.05,
          0,
          0,
          0.10403,
          0.070501631,
          0.16519236,
          0,
          0.131341337,
          0.191610337,
          0.137202337,
          0,
          0,
          0,
          0,
          0.65,
          0,
          0,
          0.040655686,
          0.018835128,
          0,
          0,
          0.008288064,
          0,
          0,
          0,
          0,
          0,
          0.0159803,
          0,
          0,
          0,
          0,
          0.361583,
          0,
          0.01035399,
          8.10597401,
          0,
          12.6963,
          0,
          0.01139194,
          0.40154,
          0.047492,
          0.02220753,
          0,
          0,
          0,
          0.04520635,
          0.06993906,
          32,
          0.039272801,
          0.07344203,
          2.8,
          0,
          0.8,
          0.58,
          0.03,
          6,
          0,
          0,
          0,
          0.1334,
          0.27050351,
          0.058726877,
          0.00381,
          0,
          0,
          0,
          0,
          0,
          12.65,
          0,
          0,
          0,
          0,
          0,
          0.026,
          0,
          0,
          0.172,
          0.00001,
          0.11,
          0,
          0,
          0,
          0,
          0,
          0,
          0,
          0,
          0.070798283,
          0,
          0,
          0,
          1,
          0.08902,
          0,
          0.02,
          0,
          0,
          0,
          0.3,
          0.012,
          0.006888,
          0,
          0,
          0,
          0,
          0.2,
          0,
          0,
          0.0045,
          1.4,
          0,
          0,
          0.016005101,
          0,
          0.0511468,
          0.0247732,
          0,
          0,
          0.894,
          0.01,
          0.000331,
          0.029179708,
          0.05173545,
          0,
          0,
          0,
          0.106987505,
          0
         ],
         "x0": " ",
         "xaxis": "x",
         "y0": " ",
         "yaxis": "y"
        }
       ],
       "layout": {
        "boxmode": "group",
        "legend": {
         "tracegroupgap": 0
        },
        "margin": {
         "t": 60
        },
        "template": {
         "data": {
          "bar": [
           {
            "error_x": {
             "color": "#2a3f5f"
            },
            "error_y": {
             "color": "#2a3f5f"
            },
            "marker": {
             "line": {
              "color": "#E5ECF6",
              "width": 0.5
             },
             "pattern": {
              "fillmode": "overlay",
              "size": 10,
              "solidity": 0.2
             }
            },
            "type": "bar"
           }
          ],
          "barpolar": [
           {
            "marker": {
             "line": {
              "color": "#E5ECF6",
              "width": 0.5
             },
             "pattern": {
              "fillmode": "overlay",
              "size": 10,
              "solidity": 0.2
             }
            },
            "type": "barpolar"
           }
          ],
          "carpet": [
           {
            "aaxis": {
             "endlinecolor": "#2a3f5f",
             "gridcolor": "white",
             "linecolor": "white",
             "minorgridcolor": "white",
             "startlinecolor": "#2a3f5f"
            },
            "baxis": {
             "endlinecolor": "#2a3f5f",
             "gridcolor": "white",
             "linecolor": "white",
             "minorgridcolor": "white",
             "startlinecolor": "#2a3f5f"
            },
            "type": "carpet"
           }
          ],
          "choropleth": [
           {
            "colorbar": {
             "outlinewidth": 0,
             "ticks": ""
            },
            "type": "choropleth"
           }
          ],
          "contour": [
           {
            "colorbar": {
             "outlinewidth": 0,
             "ticks": ""
            },
            "colorscale": [
             [
              0,
              "#0d0887"
             ],
             [
              0.1111111111111111,
              "#46039f"
             ],
             [
              0.2222222222222222,
              "#7201a8"
             ],
             [
              0.3333333333333333,
              "#9c179e"
             ],
             [
              0.4444444444444444,
              "#bd3786"
             ],
             [
              0.5555555555555556,
              "#d8576b"
             ],
             [
              0.6666666666666666,
              "#ed7953"
             ],
             [
              0.7777777777777778,
              "#fb9f3a"
             ],
             [
              0.8888888888888888,
              "#fdca26"
             ],
             [
              1,
              "#f0f921"
             ]
            ],
            "type": "contour"
           }
          ],
          "contourcarpet": [
           {
            "colorbar": {
             "outlinewidth": 0,
             "ticks": ""
            },
            "type": "contourcarpet"
           }
          ],
          "heatmap": [
           {
            "colorbar": {
             "outlinewidth": 0,
             "ticks": ""
            },
            "colorscale": [
             [
              0,
              "#0d0887"
             ],
             [
              0.1111111111111111,
              "#46039f"
             ],
             [
              0.2222222222222222,
              "#7201a8"
             ],
             [
              0.3333333333333333,
              "#9c179e"
             ],
             [
              0.4444444444444444,
              "#bd3786"
             ],
             [
              0.5555555555555556,
              "#d8576b"
             ],
             [
              0.6666666666666666,
              "#ed7953"
             ],
             [
              0.7777777777777778,
              "#fb9f3a"
             ],
             [
              0.8888888888888888,
              "#fdca26"
             ],
             [
              1,
              "#f0f921"
             ]
            ],
            "type": "heatmap"
           }
          ],
          "heatmapgl": [
           {
            "colorbar": {
             "outlinewidth": 0,
             "ticks": ""
            },
            "colorscale": [
             [
              0,
              "#0d0887"
             ],
             [
              0.1111111111111111,
              "#46039f"
             ],
             [
              0.2222222222222222,
              "#7201a8"
             ],
             [
              0.3333333333333333,
              "#9c179e"
             ],
             [
              0.4444444444444444,
              "#bd3786"
             ],
             [
              0.5555555555555556,
              "#d8576b"
             ],
             [
              0.6666666666666666,
              "#ed7953"
             ],
             [
              0.7777777777777778,
              "#fb9f3a"
             ],
             [
              0.8888888888888888,
              "#fdca26"
             ],
             [
              1,
              "#f0f921"
             ]
            ],
            "type": "heatmapgl"
           }
          ],
          "histogram": [
           {
            "marker": {
             "pattern": {
              "fillmode": "overlay",
              "size": 10,
              "solidity": 0.2
             }
            },
            "type": "histogram"
           }
          ],
          "histogram2d": [
           {
            "colorbar": {
             "outlinewidth": 0,
             "ticks": ""
            },
            "colorscale": [
             [
              0,
              "#0d0887"
             ],
             [
              0.1111111111111111,
              "#46039f"
             ],
             [
              0.2222222222222222,
              "#7201a8"
             ],
             [
              0.3333333333333333,
              "#9c179e"
             ],
             [
              0.4444444444444444,
              "#bd3786"
             ],
             [
              0.5555555555555556,
              "#d8576b"
             ],
             [
              0.6666666666666666,
              "#ed7953"
             ],
             [
              0.7777777777777778,
              "#fb9f3a"
             ],
             [
              0.8888888888888888,
              "#fdca26"
             ],
             [
              1,
              "#f0f921"
             ]
            ],
            "type": "histogram2d"
           }
          ],
          "histogram2dcontour": [
           {
            "colorbar": {
             "outlinewidth": 0,
             "ticks": ""
            },
            "colorscale": [
             [
              0,
              "#0d0887"
             ],
             [
              0.1111111111111111,
              "#46039f"
             ],
             [
              0.2222222222222222,
              "#7201a8"
             ],
             [
              0.3333333333333333,
              "#9c179e"
             ],
             [
              0.4444444444444444,
              "#bd3786"
             ],
             [
              0.5555555555555556,
              "#d8576b"
             ],
             [
              0.6666666666666666,
              "#ed7953"
             ],
             [
              0.7777777777777778,
              "#fb9f3a"
             ],
             [
              0.8888888888888888,
              "#fdca26"
             ],
             [
              1,
              "#f0f921"
             ]
            ],
            "type": "histogram2dcontour"
           }
          ],
          "mesh3d": [
           {
            "colorbar": {
             "outlinewidth": 0,
             "ticks": ""
            },
            "type": "mesh3d"
           }
          ],
          "parcoords": [
           {
            "line": {
             "colorbar": {
              "outlinewidth": 0,
              "ticks": ""
             }
            },
            "type": "parcoords"
           }
          ],
          "pie": [
           {
            "automargin": true,
            "type": "pie"
           }
          ],
          "scatter": [
           {
            "fillpattern": {
             "fillmode": "overlay",
             "size": 10,
             "solidity": 0.2
            },
            "type": "scatter"
           }
          ],
          "scatter3d": [
           {
            "line": {
             "colorbar": {
              "outlinewidth": 0,
              "ticks": ""
             }
            },
            "marker": {
             "colorbar": {
              "outlinewidth": 0,
              "ticks": ""
             }
            },
            "type": "scatter3d"
           }
          ],
          "scattercarpet": [
           {
            "marker": {
             "colorbar": {
              "outlinewidth": 0,
              "ticks": ""
             }
            },
            "type": "scattercarpet"
           }
          ],
          "scattergeo": [
           {
            "marker": {
             "colorbar": {
              "outlinewidth": 0,
              "ticks": ""
             }
            },
            "type": "scattergeo"
           }
          ],
          "scattergl": [
           {
            "marker": {
             "colorbar": {
              "outlinewidth": 0,
              "ticks": ""
             }
            },
            "type": "scattergl"
           }
          ],
          "scattermapbox": [
           {
            "marker": {
             "colorbar": {
              "outlinewidth": 0,
              "ticks": ""
             }
            },
            "type": "scattermapbox"
           }
          ],
          "scatterpolar": [
           {
            "marker": {
             "colorbar": {
              "outlinewidth": 0,
              "ticks": ""
             }
            },
            "type": "scatterpolar"
           }
          ],
          "scatterpolargl": [
           {
            "marker": {
             "colorbar": {
              "outlinewidth": 0,
              "ticks": ""
             }
            },
            "type": "scatterpolargl"
           }
          ],
          "scatterternary": [
           {
            "marker": {
             "colorbar": {
              "outlinewidth": 0,
              "ticks": ""
             }
            },
            "type": "scatterternary"
           }
          ],
          "surface": [
           {
            "colorbar": {
             "outlinewidth": 0,
             "ticks": ""
            },
            "colorscale": [
             [
              0,
              "#0d0887"
             ],
             [
              0.1111111111111111,
              "#46039f"
             ],
             [
              0.2222222222222222,
              "#7201a8"
             ],
             [
              0.3333333333333333,
              "#9c179e"
             ],
             [
              0.4444444444444444,
              "#bd3786"
             ],
             [
              0.5555555555555556,
              "#d8576b"
             ],
             [
              0.6666666666666666,
              "#ed7953"
             ],
             [
              0.7777777777777778,
              "#fb9f3a"
             ],
             [
              0.8888888888888888,
              "#fdca26"
             ],
             [
              1,
              "#f0f921"
             ]
            ],
            "type": "surface"
           }
          ],
          "table": [
           {
            "cells": {
             "fill": {
              "color": "#EBF0F8"
             },
             "line": {
              "color": "white"
             }
            },
            "header": {
             "fill": {
              "color": "#C8D4E3"
             },
             "line": {
              "color": "white"
             }
            },
            "type": "table"
           }
          ]
         },
         "layout": {
          "annotationdefaults": {
           "arrowcolor": "#2a3f5f",
           "arrowhead": 0,
           "arrowwidth": 1
          },
          "autotypenumbers": "strict",
          "coloraxis": {
           "colorbar": {
            "outlinewidth": 0,
            "ticks": ""
           }
          },
          "colorscale": {
           "diverging": [
            [
             0,
             "#8e0152"
            ],
            [
             0.1,
             "#c51b7d"
            ],
            [
             0.2,
             "#de77ae"
            ],
            [
             0.3,
             "#f1b6da"
            ],
            [
             0.4,
             "#fde0ef"
            ],
            [
             0.5,
             "#f7f7f7"
            ],
            [
             0.6,
             "#e6f5d0"
            ],
            [
             0.7,
             "#b8e186"
            ],
            [
             0.8,
             "#7fbc41"
            ],
            [
             0.9,
             "#4d9221"
            ],
            [
             1,
             "#276419"
            ]
           ],
           "sequential": [
            [
             0,
             "#0d0887"
            ],
            [
             0.1111111111111111,
             "#46039f"
            ],
            [
             0.2222222222222222,
             "#7201a8"
            ],
            [
             0.3333333333333333,
             "#9c179e"
            ],
            [
             0.4444444444444444,
             "#bd3786"
            ],
            [
             0.5555555555555556,
             "#d8576b"
            ],
            [
             0.6666666666666666,
             "#ed7953"
            ],
            [
             0.7777777777777778,
             "#fb9f3a"
            ],
            [
             0.8888888888888888,
             "#fdca26"
            ],
            [
             1,
             "#f0f921"
            ]
           ],
           "sequentialminus": [
            [
             0,
             "#0d0887"
            ],
            [
             0.1111111111111111,
             "#46039f"
            ],
            [
             0.2222222222222222,
             "#7201a8"
            ],
            [
             0.3333333333333333,
             "#9c179e"
            ],
            [
             0.4444444444444444,
             "#bd3786"
            ],
            [
             0.5555555555555556,
             "#d8576b"
            ],
            [
             0.6666666666666666,
             "#ed7953"
            ],
            [
             0.7777777777777778,
             "#fb9f3a"
            ],
            [
             0.8888888888888888,
             "#fdca26"
            ],
            [
             1,
             "#f0f921"
            ]
           ]
          },
          "colorway": [
           "#636efa",
           "#EF553B",
           "#00cc96",
           "#ab63fa",
           "#FFA15A",
           "#19d3f3",
           "#FF6692",
           "#B6E880",
           "#FF97FF",
           "#FECB52"
          ],
          "font": {
           "color": "#2a3f5f"
          },
          "geo": {
           "bgcolor": "white",
           "lakecolor": "white",
           "landcolor": "#E5ECF6",
           "showlakes": true,
           "showland": true,
           "subunitcolor": "white"
          },
          "hoverlabel": {
           "align": "left"
          },
          "hovermode": "closest",
          "mapbox": {
           "style": "light"
          },
          "paper_bgcolor": "white",
          "plot_bgcolor": "#E5ECF6",
          "polar": {
           "angularaxis": {
            "gridcolor": "white",
            "linecolor": "white",
            "ticks": ""
           },
           "bgcolor": "#E5ECF6",
           "radialaxis": {
            "gridcolor": "white",
            "linecolor": "white",
            "ticks": ""
           }
          },
          "scene": {
           "xaxis": {
            "backgroundcolor": "#E5ECF6",
            "gridcolor": "white",
            "gridwidth": 2,
            "linecolor": "white",
            "showbackground": true,
            "ticks": "",
            "zerolinecolor": "white"
           },
           "yaxis": {
            "backgroundcolor": "#E5ECF6",
            "gridcolor": "white",
            "gridwidth": 2,
            "linecolor": "white",
            "showbackground": true,
            "ticks": "",
            "zerolinecolor": "white"
           },
           "zaxis": {
            "backgroundcolor": "#E5ECF6",
            "gridcolor": "white",
            "gridwidth": 2,
            "linecolor": "white",
            "showbackground": true,
            "ticks": "",
            "zerolinecolor": "white"
           }
          },
          "shapedefaults": {
           "line": {
            "color": "#2a3f5f"
           }
          },
          "ternary": {
           "aaxis": {
            "gridcolor": "white",
            "linecolor": "white",
            "ticks": ""
           },
           "baxis": {
            "gridcolor": "white",
            "linecolor": "white",
            "ticks": ""
           },
           "bgcolor": "#E5ECF6",
           "caxis": {
            "gridcolor": "white",
            "linecolor": "white",
            "ticks": ""
           }
          },
          "title": {
           "x": 0.05
          },
          "xaxis": {
           "automargin": true,
           "gridcolor": "white",
           "linecolor": "white",
           "ticks": "",
           "title": {
            "standoff": 15
           },
           "zerolinecolor": "white",
           "zerolinewidth": 2
          },
          "yaxis": {
           "automargin": true,
           "gridcolor": "white",
           "linecolor": "white",
           "ticks": "",
           "title": {
            "standoff": 15
           },
           "zerolinecolor": "white",
           "zerolinewidth": 2
          }
         }
        },
        "xaxis": {
         "anchor": "y",
         "domain": [
          0,
          1
         ],
         "title": {
          "text": "x"
         }
        },
        "yaxis": {
         "anchor": "x",
         "domain": [
          0,
          1
         ]
        }
       }
      }
     },
     "metadata": {},
     "output_type": "display_data"
    }
   ],
   "source": [
    "fig = px.box(\n",
    "    x = data['Value']\n",
    ")\n",
    "fig.show()"
   ]
  },
  {
   "cell_type": "markdown",
   "metadata": {},
   "source": [
    "due to the interactive plot(thanks to `plotly`) we can use a filterring to reduce variations and remove the outliers(not completely remove, just ignoring them in some analysis)"
   ]
  },
  {
   "cell_type": "code",
   "execution_count": 20,
   "metadata": {},
   "outputs": [],
   "source": [
    "filtered = data[(data['Value'] >= 0) & (data['Value'] < 2.5)]['Value']"
   ]
  },
  {
   "cell_type": "code",
   "execution_count": 21,
   "metadata": {},
   "outputs": [
    {
     "data": {
      "image/png": "[encoded data removed]",
      "text/plain": [
       "<Figure size 1500x1000 with 2 Axes>"
      ]
     },
     "metadata": {},
     "output_type": "display_data"
    }
   ],
   "source": [
    "figure, axis = plt.subplots(2, 1, figsize=(15, 10))\n",
    "sb.boxplot(\n",
    "    x = filtered,\n",
    "    ax = axis[0]\n",
    ")\n",
    "sb.violinplot(\n",
    "    x = filtered,\n",
    "    ax = axis[1]\n",
    ")\n",
    "plt.show()"
   ]
  },
  {
   "cell_type": "code",
   "execution_count": 22,
   "metadata": {},
   "outputs": [
    {
     "name": "stdout",
     "output_type": "stream",
     "text": [
      "filtered value:\n",
      "mean: 0.12583032945167175 \n",
      "std: 0.3335849951496422\n"
     ]
    },
    {
     "data": {
      "image/png": "[encoded data removed]",
      "text/plain": [
       "<Figure size 640x480 with 1 Axes>"
      ]
     },
     "metadata": {},
     "output_type": "display_data"
    }
   ],
   "source": [
    "plt.hist(\n",
    "    filtered,\n",
    "    bins = np.arange(0, 1, 0.1),\n",
    "    # bins = 'scott',\n",
    "    alpha = 0.5,\n",
    "    ec='black',\n",
    "    density = True\n",
    ")\n",
    "\n",
    "mu = filtered.mean()\n",
    "std = filtered.std()\n",
    "print(f'filtered value:\\n'\n",
    "      'mean:', mu, '\\n' \n",
    "      'std:', std)\n",
    "x = np.linspace(mu - 3 * std, mu + 3 * std, 100)\n",
    "plt.plot(x, stats.norm.pdf(x, mu, std))\n",
    "plt.xlim(0, 1)\n",
    "plt.show()\n"
   ]
  },
  {
   "cell_type": "markdown",
   "metadata": {},
   "source": [
    "### 2.8 Effect of Methods on Value "
   ]
  },
  {
   "cell_type": "code",
   "execution_count": 23,
   "metadata": {},
   "outputs": [
    {
     "data": {
      "text/plain": [
       "['Transfer', 'Execute', 'Approve', 'Swap', 'Deposit']"
      ]
     },
     "execution_count": 23,
     "metadata": {},
     "output_type": "execute_result"
    }
   ],
   "source": [
    "methods = data['Method'].value_counts(sort=True).index.to_list()[0:5]\n",
    "methods"
   ]
  },
  {
   "cell_type": "markdown",
   "metadata": {},
   "source": [
    "- In a `Transfer` transaction, the value of the transaction would represent the amount of tokens or Ether being transferred from one address to another.\n",
    "\n",
    "- In an `Execute` transaction, the value of the transaction may not be directly related to the value being executed, but rather to any gas fees or costs associated with executing the transaction.\n",
    "\n",
    "- In an `Approve` transaction, the value of the transaction typically does not directly correlate with the approval itself but represents any gas fees or costs incurred during the approval process.\n",
    "\n",
    "- In a `Swap` transaction, the value of the transaction would represent the value of the tokens being swapped or exchanged.\n",
    "\n",
    "- In a `Deposit` transaction, the value of the transaction would typically represent the amount of tokens or Ether being deposited into a specific smart contract or DeFi protocol."
   ]
  },
  {
   "cell_type": "code",
   "execution_count": 24,
   "metadata": {},
   "outputs": [
    {
     "name": "stdout",
     "output_type": "stream",
     "text": [
      "Transfer\n"
     ]
    },
    {
     "data": {
      "image/png": "[encoded data removed]",
      "text/plain": [
       "<Figure size 1500x500 with 2 Axes>"
      ]
     },
     "metadata": {},
     "output_type": "display_data"
    },
    {
     "name": "stdout",
     "output_type": "stream",
     "text": [
      "Execute\n"
     ]
    },
    {
     "data": {
      "image/png": "[encoded data removed]",
      "text/plain": [
       "<Figure size 1500x500 with 2 Axes>"
      ]
     },
     "metadata": {},
     "output_type": "display_data"
    },
    {
     "name": "stdout",
     "output_type": "stream",
     "text": [
      "Approve\n"
     ]
    },
    {
     "data": {
      "image/png": "[encoded data removed]",
      "text/plain": [
       "<Figure size 1500x500 with 2 Axes>"
      ]
     },
     "metadata": {},
     "output_type": "display_data"
    },
    {
     "name": "stdout",
     "output_type": "stream",
     "text": [
      "Swap\n"
     ]
    },
    {
     "data": {
      "image/png": "[encoded data removed]",
      "text/plain": [
       "<Figure size 1500x500 with 2 Axes>"
      ]
     },
     "metadata": {},
     "output_type": "display_data"
    },
    {
     "name": "stdout",
     "output_type": "stream",
     "text": [
      "Deposit\n"
     ]
    },
    {
     "data": {
      "image/png": "[encoded data removed]",
      "text/plain": [
       "<Figure size 1500x500 with 2 Axes>"
      ]
     },
     "metadata": {},
     "output_type": "display_data"
    }
   ],
   "source": [
    "for method in methods:\n",
    "    print(method)\n",
    "    figure, axis = plt.subplots(1, 2, figsize=(15, 5))\n",
    "    sb.boxplot(\n",
    "        x = data[data['Method'] == method]['Value'],\n",
    "        ax = axis[0]\n",
    "    )\n",
    "    sb.violinplot(\n",
    "        x = data[data['Method'] == method]['Value'],\n",
    "        ax = axis[1]\n",
    "    )\n",
    "    plt.show()"
   ]
  },
  {
   "cell_type": "markdown",
   "metadata": {},
   "source": [
    "## 3. Data Sampling and Analysis"
   ]
  },
  {
   "cell_type": "markdown",
   "metadata": {},
   "source": [
    "### 3.1 Simple Random Sampling\n"
   ]
  },
  {
   "cell_type": "code",
   "execution_count": 25,
   "metadata": {},
   "outputs": [],
   "source": [
    "variable = ['Fee', 'Value']"
   ]
  },
  {
   "cell_type": "code",
   "execution_count": 26,
   "metadata": {},
   "outputs": [],
   "source": [
    "def get_samples(x, percentage = 0.18):\n",
    "    return x.sample(\n",
    "        n = int(x.shape[0] * percentage)\n",
    "    )\n",
    "\n",
    "def report_stats(main: pd.Series, samples: pd.Series, name: str):\n",
    "    astplt.hist(\n",
    "        main,\n",
    "        bins = 'scott',\n",
    "        alpha = 0.5,\n",
    "        ec='black',\n",
    "        density = True,\n",
    "        label = 'population'\n",
    "    )\n",
    "    astplt.hist(\n",
    "        samples,\n",
    "        bins = 'scott',\n",
    "        alpha = 0.5,\n",
    "        ec='black',\n",
    "        density = True,\n",
    "        label = 'samples'\n",
    "    )\n",
    "    plt.legend()\n",
    "    plt.xlim(zScore(main, '99%'))\n",
    "    plt.show()\n",
    "\n",
    "    sb.violinplot(\n",
    "        pd.DataFrame({'population': main, 'samples': samples}),\n",
    "        split=True\n",
    "    )\n",
    "    plt.show()\n",
    "    \n",
    "    print(f'========== var: {name} ==========')\n",
    "    print('mean:')\n",
    "    print('all data: ', main.mean())\n",
    "    print('samples: ', samples.mean())\n",
    "    print('------------------------------')\n",
    "    print('std:')\n",
    "    print('all data: ', main.std())\n",
    "    print('samples: ', samples.std())\n",
    "    print('------------------------------')\n",
    "    print('median:')\n",
    "    print('all data: ', main.median())\n",
    "    print('samples: ', samples.median())\n",
    "    print()"
   ]
  },
  {
   "cell_type": "code",
   "execution_count": 27,
   "metadata": {},
   "outputs": [
    {
     "data": {
      "image/png": "[encoded data removed]",
      "text/plain": [
       "<Figure size 640x480 with 1 Axes>"
      ]
     },
     "metadata": {},
     "output_type": "display_data"
    },
    {
     "data": {
      "image/png": "[encoded data removed]",
      "text/plain": [
       "<Figure size 640x480 with 1 Axes>"
      ]
     },
     "metadata": {},
     "output_type": "display_data"
    },
    {
     "name": "stdout",
     "output_type": "stream",
     "text": [
      "========== var: Fee ==========\n",
      "mean:\n",
      "all data:  0.00475841979757085\n",
      "samples:  0.0045777253376205786\n",
      "------------------------------\n",
      "std:\n",
      "all data:  0.00726101531237787\n",
      "samples:  0.0059095064850708135\n",
      "------------------------------\n",
      "median:\n",
      "all data:  0.00250314\n",
      "samples:  0.00250314\n",
      "\n"
     ]
    },
    {
     "data": {
      "image/png": "[encoded data removed]",
      "text/plain": [
       "<Figure size 640x480 with 1 Axes>"
      ]
     },
     "metadata": {},
     "output_type": "display_data"
    },
    {
     "data": {
      "image/png": "[encoded data removed]",
      "text/plain": [
       "<Figure size 640x480 with 1 Axes>"
      ]
     },
     "metadata": {},
     "output_type": "display_data"
    },
    {
     "name": "stdout",
     "output_type": "stream",
     "text": [
      "========== var: Value ==========\n",
      "mean:\n",
      "all data:  1.3163461401769811\n",
      "samples:  0.5897143098681672\n",
      "------------------------------\n",
      "std:\n",
      "all data:  13.722904718422566\n",
      "samples:  3.3498589956665783\n",
      "------------------------------\n",
      "median:\n",
      "all data:  1e-05\n",
      "samples:  0.0\n",
      "\n"
     ]
    },
    {
     "data": {
      "image/png": "[encoded data removed]",
      "text/plain": [
       "<Figure size 640x480 with 1 Axes>"
      ]
     },
     "metadata": {},
     "output_type": "display_data"
    },
    {
     "data": {
      "image/png": "[encoded data removed]",
      "text/plain": [
       "<Figure size 640x480 with 1 Axes>"
      ]
     },
     "metadata": {},
     "output_type": "display_data"
    },
    {
     "name": "stdout",
     "output_type": "stream",
     "text": [
      "========== var: Filtered Value ==========\n",
      "mean:\n",
      "all data:  0.12583032945167175\n",
      "samples:  0.14718093836824325\n",
      "------------------------------\n",
      "std:\n",
      "all data:  0.3335849951496422\n",
      "samples:  0.37494100308846445\n",
      "------------------------------\n",
      "median:\n",
      "all data:  0.0\n",
      "samples:  0.0014886765000000001\n",
      "\n"
     ]
    }
   ],
   "source": [
    "for var in variables:\n",
    "    samples = get_samples(data[var])\n",
    "    report_stats(data[var], samples, var)\n",
    "    \n",
    "samples = get_samples(filtered)\n",
    "report_stats(filtered, samples, 'Filtered Value')"
   ]
  },
  {
   "cell_type": "markdown",
   "metadata": {},
   "source": [
    "### 3.2 Statified: Blocks\n",
    "\n",
    "now we can divide data into each block, and take sample from each block"
   ]
  },
  {
   "cell_type": "code",
   "execution_count": 28,
   "metadata": {},
   "outputs": [
    {
     "name": "stdout",
     "output_type": "stream",
     "text": [
      "Fee\n"
     ]
    },
    {
     "data": {
      "image/png": "[encoded data removed]",
      "text/plain": [
       "<Figure size 640x480 with 1 Axes>"
      ]
     },
     "metadata": {},
     "output_type": "display_data"
    },
    {
     "data": {
      "image/png": "[encoded data removed]",
      "text/plain": [
       "<Figure size 640x480 with 1 Axes>"
      ]
     },
     "metadata": {},
     "output_type": "display_data"
    },
    {
     "name": "stdout",
     "output_type": "stream",
     "text": [
      "========== var: Fee - block ==========\n",
      "mean:\n",
      "all data:  0.00475841979757085\n",
      "samples:  0.004991990130293159\n",
      "------------------------------\n",
      "std:\n",
      "all data:  0.00726101531237787\n",
      "samples:  0.00879652711095435\n",
      "------------------------------\n",
      "median:\n",
      "all data:  0.00250314\n",
      "samples:  0.00255594\n",
      "\n",
      "Value\n"
     ]
    },
    {
     "data": {
      "image/png": "[encoded data removed]",
      "text/plain": [
       "<Figure size 640x480 with 1 Axes>"
      ]
     },
     "metadata": {},
     "output_type": "display_data"
    },
    {
     "data": {
      "image/png": "[encoded data removed]",
      "text/plain": [
       "<Figure size 640x480 with 1 Axes>"
      ]
     },
     "metadata": {},
     "output_type": "display_data"
    },
    {
     "name": "stdout",
     "output_type": "stream",
     "text": [
      "========== var: Value - block ==========\n",
      "mean:\n",
      "all data:  1.3163461401769811\n",
      "samples:  2.192992766026059\n",
      "------------------------------\n",
      "std:\n",
      "all data:  13.722904718422566\n",
      "samples:  17.931909465578794\n",
      "------------------------------\n",
      "median:\n",
      "all data:  1e-05\n",
      "samples:  0.001947764\n",
      "\n"
     ]
    }
   ],
   "source": [
    "for var in variable:\n",
    "    samples = pd.Series(dtype=float)\n",
    "    print(var)\n",
    "    for block in set(data['Block'].unique()):\n",
    "        s = data[data['Block'] == block]\n",
    "        samples = pd.concat([samples, get_samples(s[var])])\n",
    "    report_stats(data[var], samples, f'{var} - block')\n",
    "        "
   ]
  },
  {
   "cell_type": "markdown",
   "metadata": {},
   "source": [
    "### 3.3 Statified: Methods\n",
    "\n",
    "As we mentioned, each method has its own characteristics"
   ]
  },
  {
   "cell_type": "code",
   "execution_count": 29,
   "metadata": {},
   "outputs": [
    {
     "name": "stdout",
     "output_type": "stream",
     "text": [
      "Fee\n"
     ]
    },
    {
     "data": {
      "image/png": "[encoded data removed]",
      "text/plain": [
       "<Figure size 640x480 with 1 Axes>"
      ]
     },
     "metadata": {},
     "output_type": "display_data"
    },
    {
     "data": {
      "image/png": "[encoded data removed]",
      "text/plain": [
       "<Figure size 640x480 with 1 Axes>"
      ]
     },
     "metadata": {},
     "output_type": "display_data"
    },
    {
     "name": "stdout",
     "output_type": "stream",
     "text": [
      "========== var: Fee - Method ==========\n",
      "mean:\n",
      "all data:  0.00475841979757085\n",
      "samples:  0.0034872635622317594\n",
      "------------------------------\n",
      "std:\n",
      "all data:  0.00726101531237787\n",
      "samples:  0.006839366637021027\n",
      "------------------------------\n",
      "median:\n",
      "all data:  0.00250314\n",
      "samples:  0.00184301\n",
      "\n",
      "Value\n"
     ]
    },
    {
     "data": {
      "image/png": "[encoded data removed]",
      "text/plain": [
       "<Figure size 640x480 with 1 Axes>"
      ]
     },
     "metadata": {},
     "output_type": "display_data"
    },
    {
     "data": {
      "image/png": "[encoded data removed]",
      "text/plain": [
       "<Figure size 640x480 with 1 Axes>"
      ]
     },
     "metadata": {},
     "output_type": "display_data"
    },
    {
     "name": "stdout",
     "output_type": "stream",
     "text": [
      "========== var: Value - Method ==========\n",
      "mean:\n",
      "all data:  1.3163461401769811\n",
      "samples:  1.992562234914163\n",
      "------------------------------\n",
      "std:\n",
      "all data:  13.722904718422566\n",
      "samples:  11.693625308449404\n",
      "------------------------------\n",
      "median:\n",
      "all data:  1e-05\n",
      "samples:  0.003148934\n",
      "\n"
     ]
    }
   ],
   "source": [
    "for var in variable:\n",
    "    print(var)\n",
    "    samples = pd.Series(dtype=float)\n",
    "    for method in methods:\n",
    "        s = data[data['Method'] == method]\n",
    "        samples = pd.concat([samples, get_samples(s[var])])\n",
    "    report_stats(data[var], samples, f'{var} - Method')"
   ]
  },
  {
   "cell_type": "markdown",
   "metadata": {},
   "source": [
    "### 3.4 Statified: Fee\n",
    "\n",
    "we divide data based on `Fee` quantiles "
   ]
  },
  {
   "cell_type": "code",
   "execution_count": 30,
   "metadata": {},
   "outputs": [],
   "source": [
    "quantileRange = lambda i, n: (i / n, (i + 1) / n)"
   ]
  },
  {
   "cell_type": "code",
   "execution_count": 31,
   "metadata": {},
   "outputs": [
    {
     "data": {
      "image/png": "[encoded data removed]",
      "text/plain": [
       "<Figure size 640x480 with 1 Axes>"
      ]
     },
     "metadata": {},
     "output_type": "display_data"
    },
    {
     "data": {
      "image/png": "[encoded data removed]",
      "text/plain": [
       "<Figure size 640x480 with 1 Axes>"
      ]
     },
     "metadata": {},
     "output_type": "display_data"
    },
    {
     "name": "stdout",
     "output_type": "stream",
     "text": [
      "========== var: Fee - fee quntile ==========\n",
      "mean:\n",
      "all data:  0.00475841979757085\n",
      "samples:  0.004293429350649351\n",
      "------------------------------\n",
      "std:\n",
      "all data:  0.00726101531237787\n",
      "samples:  0.004852662787588597\n",
      "------------------------------\n",
      "median:\n",
      "all data:  0.00250314\n",
      "samples:  0.0025053\n",
      "\n"
     ]
    },
    {
     "data": {
      "image/png": "[encoded data removed]",
      "text/plain": [
       "<Figure size 640x480 with 1 Axes>"
      ]
     },
     "metadata": {},
     "output_type": "display_data"
    },
    {
     "data": {
      "image/png": "[encoded data removed]",
      "text/plain": [
       "<Figure size 640x480 with 1 Axes>"
      ]
     },
     "metadata": {},
     "output_type": "display_data"
    },
    {
     "name": "stdout",
     "output_type": "stream",
     "text": [
      "========== var: Value - fee quntile ==========\n",
      "mean:\n",
      "all data:  1.3163461401769811\n",
      "samples:  1.3110186320454544\n",
      "------------------------------\n",
      "std:\n",
      "all data:  13.722904718422566\n",
      "samples:  10.027948584979802\n",
      "------------------------------\n",
      "median:\n",
      "all data:  1e-05\n",
      "samples:  1.45e-08\n",
      "\n"
     ]
    }
   ],
   "source": [
    "nQuntiles = 6\n",
    "for var in variables:\n",
    "    samples = pd.Series(dtype = float)\n",
    "    for i in range(nQuntiles):\n",
    "        l = data['Fee'].quantile(quantileRange(i, nQuntiles)[0])\n",
    "        r = data['Fee'].quantile(quantileRange(i, nQuntiles)[1])\n",
    "        s = data[(data['Fee'] >= l) & (data['Fee'] < r)][var]\n",
    "        samples = pd.concat([samples, get_samples(s)])\n",
    "    report_stats(data[var], samples, f'{var} - fee quntile')"
   ]
  },
  {
   "cell_type": "markdown",
   "metadata": {},
   "source": [
    "# 4. Questions"
   ]
  },
  {
   "cell_type": "markdown",
   "metadata": {},
   "source": [
    "**1. What are some potential limitations when using web scraping for data collection? Specifically, what problems did you face while fetching data from Etherscan? What problems can these limitations cause in your analysis?**\n",
    "\n",
    "- `Legal and ethical issues`: Web scraping may violate the terms of service of some websites and could potentially be illegal.\n",
    "\n",
    "- `Website changes`: Websites frequently update their structure and content, which can break the web scraping process.\n",
    "\n",
    "- `Rate limits and access restrictions`: Many websites have rate limits or may block access to users who are scraping their data.\n",
    "\n",
    "**2. What can make your analysis untrustworthy? What are your solutions?**\n",
    "\n",
    "- `Biased data selection`: If the data used for analysis is not representative of the entire population or is selectively chosen to support a particular hypothesis, the analysis can be biased. This can lead to misleading conclusions.\n",
    "\n",
    "- `Data quality issues`: Inaccurate, incomplete, or outdated data can significantly impact the reliability of the analysis.\n",
    "\n",
    "To address these potential issues and ensure the trustworthiness of an analysis, we can:\n",
    "\n",
    "- `Use high-quality data`: Ensure that the data used for analysis is comprehensive and accurate. Address any data quality issues through data cleaning and validation processes.\n",
    "\n",
    "- `Use proper methods`: Clearly define the methodology used for data collection, analysis, and modeling.\n",
    "\n",
    "- `Validate results`: Use validation techniques such as visualization.\n",
    "\n",
    "\n",
    "**3. How did the visualization help you in understanding the data? What could you interpret from the plots?**\n",
    "\n",
    "- `Identifying patterns`: Visualizations make it easier to spot patterns in the data.\n",
    "\n",
    "- `Comparing data`: Visualizations allow for quick and easy comparison of different data sets, helping to identify differences and similarities between variables and methods.\n",
    "\n",
    "- `Detecting outliers`: Visual representations of data can make it easier to identify outliers that may not be as apparent in tabular data.\n",
    "\n",
    "- `Understanding relationships`: Visualizations can show the relationships between different variables, such as correlation or causation, making it easier to understand how changes in one variable affect another.\n",
    "\n",
    "**4. How do the two sampling methods differ in their output? Compare these and explain which one is a better fit to the population.**\n",
    "\n",
    "- `Simple Random Sampling`: The output of simple random sampling provides estimates and inferences about the entire population, without specific emphasis on characteristics of individual subgroups. It may not provide detailed insights.\n",
    "\n",
    "- `Stratified Sampling`: The output of stratified sampling allows for more precise estimates for each subgroup. This enables separate analysis within each group.\n",
    "\n",
    "As we saw startified sampling results better."
   ]
  }
 ],
 "metadata": {
  "kernelspec": {
   "display_name": "Python 3",
   "language": "python",
   "name": "python3"
  },
  "language_info": {
   "codemirror_mode": {
    "name": "ipython",
    "version": 3
   },
   "file_extension": ".py",
   "mimetype": "text/x-python",
   "name": "python",
   "nbconvert_exporter": "python",
   "pygments_lexer": "ipython3",
   "version": "3.8.10"
  }
 },
 "nbformat": 4,
 "nbformat_minor": 2
}
